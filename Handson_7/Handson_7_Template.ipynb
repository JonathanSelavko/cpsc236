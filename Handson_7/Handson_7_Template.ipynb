{
 "cells": [
  {
   "cell_type": "markdown",
   "metadata": {},
   "source": [
    "# Exceptions\n",
    "\n",
    "To submit this assignment in D2l, post the link to your notebook file on your GitHub account."
   ]
  },
  {
   "cell_type": "markdown",
   "metadata": {},
   "source": [
    "## 8.1 Tip Calculator\n",
    "Add exception handling to a Tip Calculator program.\n",
    "\n",
    "### Console:\n",
    "```powershell\n",
    "Tip Calculator\n",
    "\n",
    "INPUT\n",
    "Cost of meal: ten\n",
    "Must be valid decimal number. Please try again. \n",
    "Cost of meal: -10\n",
    "Must be greater than 0. Please try again. \n",
    "Cost of meal: 52.31\n",
    "Tip percent:\t17.5\n",
    "Must be valid integer. Please try again. \n",
    "Tip percent:\t20\n",
    "\n",
    "OUTPUT\n",
    "Cost of meal:   52.31 \n",
    "Tip percent:    20%\n",
    "Tip amount:     10.46\n",
    "Total amount:   62.77\n",
    "```\n",
    "\n",
    "### Specifications:\n",
    "- The program should accept **decimal** entries like 52.31 and 15.5 for the cost of the meal.\n",
    "- The program should accept **integer** entries like 15, 20, 25 for the tip percent.\n",
    "- The program should validate both user entries. That way, the user can’t crash the program by entering invalid data.\n",
    "- The program should only accept numbers that are **greater than 0**.\n",
    "- The program should round results to a maximum of two decimal places.\n"
   ]
  },
  {
   "cell_type": "code",
   "execution_count": 3,
   "metadata": {},
   "outputs": [
    {
     "name": "stdout",
     "output_type": "stream",
     "text": [
      "Tip Calculator\n",
      "\n",
      "INPUT\n"
     ]
    },
    {
     "name": "stdin",
     "output_type": "stream",
     "text": [
      "Cost of meal:  10\n",
      "Tip amount:  10\n"
     ]
    },
    {
     "name": "stdout",
     "output_type": "stream",
     "text": [
      "OUTPUT\n",
      "Cost of meal:\t 10.0\n",
      "Tip percent:\t 10%\n",
      "Tip amount:\t 1.0\n",
      "Total amount:\t 11.0\n"
     ]
    }
   ],
   "source": [
    "def get_tip(cost: float, percentage: int) -> None:\n",
    "    \"\"\"Takes the cost of the meal (as float) and a tip percentage (as int). Returns calculated tip.\"\"\"\n",
    "    # Get tip percent as mathematical value (a decimal we can use to multiply)\n",
    "    percent_float = percentage / 100\n",
    "    # Calculate tip and total\n",
    "    tip = round(cost * percent_float, 2)\n",
    "    total = round(tip + cost, 2)\n",
    "\n",
    "    # return results\n",
    "    return tip\n",
    "\n",
    "def get_cost():\n",
    "    \"\"\"Returns user inputed cost of meal as a float value when the user inputs a valid entry.\"\"\" \n",
    "    while True:\n",
    "        user = input(\"Cost of meal: \")\n",
    "        try:\n",
    "            cost = float(user)\n",
    "        except ValueError:\n",
    "            print(\"Must be valid decimal number. Please try again. \")\n",
    "            continue\n",
    "        if cost < 1:\n",
    "            print(\"Must be greater than 0. Please try again.\")\n",
    "            continue\n",
    "        return cost\n",
    "\n",
    "def get_percentage():\n",
    "    \"\"\"Returns user inputed tip as an int value when the user inputs a valid entry.\"\"\"\n",
    "    while True:\n",
    "        user = input(\"Tip amount: \")\n",
    "        try:\n",
    "            cost = int(user)\n",
    "        except ValueError:\n",
    "            print(\"Must be valid integer number. Please try again. \")\n",
    "            continue\n",
    "        if cost < 1:\n",
    "            print(\"Must be greater than 0. Please try again.\")\n",
    "            continue\n",
    "        return cost\n",
    "\n",
    "def display_tip(cost, tip, tip_perc):\n",
    "    \"\"\"Displays the tip and total.\"\"\"\n",
    "    print(\"OUTPUT\")\n",
    "    print(\"Cost of meal:\\t\", round(cost,2))\n",
    "    print(\"Tip percent:\\t\", str(round(tip_perc,2)) + \"%\")\n",
    "    print(\"Tip amount:\\t\", round(tip,2))\n",
    "    print(\"Total amount:\\t\", round(tip + cost, 2))\n",
    "\n",
    "def main():\n",
    "    \"\"\"Tip calculator with error handler.\"\"\"\n",
    "    # Display title\n",
    "    print(\"Tip Calculator\")\n",
    "    print()\n",
    "    # Get input\n",
    "    print(\"INPUT\")\n",
    "    cost = get_cost()\n",
    "    tip_perc = get_percentage()\n",
    "    # Calculate tip\n",
    "    tip = get_tip(cost, tip_perc)\n",
    "    # Display tip\n",
    "    display_tip(cost, tip, tip_perc)\n",
    "\n",
    "# Call main\n",
    "if __name__ == \"__main__\":\n",
    "    main()"
   ]
  },
  {
   "cell_type": "markdown",
   "metadata": {},
   "source": [
    "## 8.2 Wizard Inventory\n",
    "\n",
    "Add exception handling to a program that keeps track of the inventory of items that a wizard can carry. If you still have Wizard Inventory from Handson_5, you can add the exception handling to that program. Otherwise, you can start this program from scratch.\n",
    "\n",
    "### Console if the program can't find the **inventory** file:\n",
    "```powershell\n",
    "The Wizard Inventory program\n",
    "\n",
    "COMMAND MENU\n",
    "walk - Walk down the path \n",
    "show - Show all items \n",
    "drop - Drop an item\n",
    "exit - Exit program\n",
    "\n",
    "Could not find inventory file!\n",
    "Wizard is starting with no inventory.\n",
    "\n",
    "Command: walk\n",
    "While walking down a path, you see a crossbow.\n",
    "Do you want to grab it? (y/n): y\n",
    "You picked up a crossbow.\n",
    "\n",
    "Command: show\n",
    "1. a crossbow\n",
    "\n",
    "Command: drop Number: x\n",
    "Invalid item number.\n",
    "```\n",
    "\n",
    "### The error message if the program can’t find the **items** file:\n",
    "```powershell\n",
    "Could not find items file.\t\n",
    "Exiting program. Bye!\t\n",
    "```\n",
    "\n",
    "### Specifications:\n",
    "- This program should read the text file named `wizard_all_items.txt` that contains all the items a wizard can carry.\n",
    "- When the user selects the walk command, the program should randomly pick one of the items that were read from the text file and give the user the option to grab it.\n",
    "- The current items that the wizard is carrying should be saved in an inventory file. Make sure to update this file every time the user grabs or drops an item.\n",
    "- The wizard can only carry four items at a time. For the drop command, display an error message if the user enters an invalid integer or an integer that doesn’t correspond with an item.\n",
    "- Handle all exceptions that might occur so that the user can’t cause the program to crash. If the all items file is missing, display an appropriate error message and exit the program.\n",
    "- If the inventory file is missing, display an appropriate error message and continue with an empty inventory for the user. That way, the program will write a new inventory file when the user adds items to the inventory."
   ]
  },
  {
   "cell_type": "code",
   "execution_count": 5,
   "metadata": {},
   "outputs": [
    {
     "name": "stdout",
     "output_type": "stream",
     "text": [
      "The Wizard Inventroy Program\n",
      "\n",
      "COMMAND MENU\n",
      "walk - Walk down the path\n",
      "show - Show all items\n",
      "drop - Drop an item\n",
      "exit - Exit program\n",
      "\n"
     ]
    },
    {
     "name": "stdin",
     "output_type": "stream",
     "text": [
      "Command:  show\n"
     ]
    },
    {
     "name": "stdout",
     "output_type": "stream",
     "text": [
      "Could not find inventory file.\n",
      "Inventory presumed to be empty.\n",
      "\n"
     ]
    },
    {
     "name": "stdin",
     "output_type": "stream",
     "text": [
      "Command:  drop\n",
      "Number:  10\n"
     ]
    },
    {
     "name": "stdout",
     "output_type": "stream",
     "text": [
      "Could not find inventory file.\n",
      "Oops. Item selected not in inventory.\n",
      "\n"
     ]
    },
    {
     "name": "stdin",
     "output_type": "stream",
     "text": [
      "Command:  drop\n",
      "Number:  -10\n"
     ]
    },
    {
     "name": "stdout",
     "output_type": "stream",
     "text": [
      "Could not find inventory file.\n",
      "Oops. Item selected not in inventory.\n",
      "\n"
     ]
    },
    {
     "name": "stdin",
     "output_type": "stream",
     "text": [
      "Command:  drop\n",
      "Number:  x\n"
     ]
    },
    {
     "name": "stdout",
     "output_type": "stream",
     "text": [
      "Only input integer values.\n",
      "You did not drop any items.\n",
      "\n"
     ]
    },
    {
     "name": "stdin",
     "output_type": "stream",
     "text": [
      "Command:  walk\n"
     ]
    },
    {
     "name": "stdout",
     "output_type": "stream",
     "text": [
      "While walking down a path, you see a wizard's cloak.\n"
     ]
    },
    {
     "name": "stdin",
     "output_type": "stream",
     "text": [
      "Do you want to grab it? (y/n):  y\n"
     ]
    },
    {
     "name": "stdout",
     "output_type": "stream",
     "text": [
      "Could not find inventory file.\n",
      "You picked up a wizard's cloak.\n",
      "\n"
     ]
    },
    {
     "name": "stdin",
     "output_type": "stream",
     "text": [
      "Command:  show\n"
     ]
    },
    {
     "name": "stdout",
     "output_type": "stream",
     "text": [
      "1.\ta wizard's cloak\n",
      "\n"
     ]
    },
    {
     "name": "stdin",
     "output_type": "stream",
     "text": [
      "Command:  exit\n"
     ]
    },
    {
     "name": "stdout",
     "output_type": "stream",
     "text": [
      "Bye!\n"
     ]
    }
   ],
   "source": [
    "# Imports\n",
    "import random\n",
    "\n",
    "# Constants\n",
    "MAX_ITEMS = 4\n",
    "INVENTORY_FILEPATH = \"wizard_inventory.txt\"\n",
    "ALL_ITEMS_FILEPATH = \"wizard_all_items.txt\"\n",
    "\n",
    "# Global which tells the program to stop\n",
    "# exit and quit are not fully safe within Juypter, and sys.exit() raises an exception, making this a better method\n",
    "should_run = True\n",
    "\n",
    "def start_menu() -> None:\n",
    "    \"\"\"Displays the game title and acceptable commmands.\"\"\"\n",
    "    print(\"The Wizard Inventroy Program\")\n",
    "    print(\"\")\n",
    "    print(\"COMMAND MENU\")\n",
    "    print(\"walk - Walk down the path\")\n",
    "    print(\"show - Show all items\")\n",
    "    print(\"drop - Drop an item\")\n",
    "    print(\"exit - Exit program\")\n",
    "    print(\"\")\n",
    "\n",
    "def get_random_item() -> str:\n",
    "    \"\"\"Opens the all items file, and returns one random item as a string.\"\"\"\n",
    "    # Choose a random item from the wizard items list \n",
    "    try:\n",
    "        with open(ALL_ITEMS_FILEPATH, 'r') as items_file:\n",
    "            # Get random line from the items file\n",
    "            item = random.choice(items_file.readlines())\n",
    "            # Most file based items will have a newline, which we do not want\n",
    "            item = item.rstrip()\n",
    "            # Return the item\n",
    "            return item\n",
    "    except OSError:\n",
    "        # if the all items file could not be found, exit the program early\n",
    "        print(\"Could not find all items file.\")\n",
    "        print(\"Exiting program. Bye!\")\n",
    "        global should_run\n",
    "        should_run = False\n",
    "        return None\n",
    "\n",
    "def get_inventory_count() -> int:\n",
    "    \"\"\"Opens the inventory file, counting the amount of items (using linecount). \n",
    "    Returns current inventory size as int.\"\"\"\n",
    "    # Get pre-existing item count from the inventory file\n",
    "    try:\n",
    "        with open(INVENTORY_FILEPATH, 'r') as inventory_file:\n",
    "            # Get item count (line count)\n",
    "            line_count = 0\n",
    "            for i, _ in enumerate(inventory_file):\n",
    "                line_count = i\n",
    "            item_count = line_count + 1 #enumerate starts at 0. Count should start at 1\n",
    "            return item_count\n",
    "    except OSError:\n",
    "        # There is no file so inventory is empty\n",
    "        print(\"Could not find inventory file.\")\n",
    "        return 0\n",
    "\n",
    "\n",
    "def add_to_inventory(item: str) -> None:\n",
    "    \"\"\"Opens and writes the to inventory file, appending the passed item string.\"\"\"\n",
    "    try:\n",
    "        with open(INVENTORY_FILEPATH, 'a') as inventory_file:\n",
    "            inventory_file.write(item)\n",
    "            inventory_file.write(\"\\n\")\n",
    "    except OSError:\n",
    "        print(\"Could not save to inventory file.\")\n",
    "\n",
    "def remove_from_inventory(item_num: int) -> str:\n",
    "    \"\"\"Opens and rewrites the inventory file, keeping the file the same except for the\n",
    "    removal of the desired item. Desired item should be a numerical item number.\n",
    "    Returns the removed item.\"\"\"\n",
    "    # Variable to hold the inventory's contents \n",
    "    lines = None\n",
    "    deleted_item = None\n",
    "    try:\n",
    "        # Get all of the items from the file (deleting its current contents)\n",
    "        with open(INVENTORY_FILEPATH, 'r') as inventory_file:\n",
    "            lines = inventory_file.readlines()\n",
    "        # Fully overwrite the inventory file (deleting its old contents)\n",
    "        with open(INVENTORY_FILEPATH, 'w') as inventory_file:\n",
    "            # Add in each line except for the line we want removed\n",
    "            for index, line in enumerate(lines):\n",
    "                if (index + 1) != item_num:\n",
    "                    inventory_file.write(line)\n",
    "                else:\n",
    "                    deleted_item = line.rstrip()\n",
    "        return deleted_item\n",
    "    except OSError:\n",
    "        # Inventory file does not found, no items can be removed\n",
    "        print(\"Could not find and write to inventory file.\")\n",
    "        return \"no item\"\n",
    "    \n",
    "def show() -> None:\n",
    "    \"\"\"Displays all items in the inventory file, formatted to be easily human readible.\"\"\"\n",
    "    try:\n",
    "        with open(INVENTORY_FILEPATH, 'r') as inventory_file:\n",
    "            for index, item in enumerate(inventory_file):\n",
    "                # Remove any excess whitespace (newlines found in the file)\n",
    "                item = item.rstrip()\n",
    "                # Print with desired format\n",
    "                print(str(index + 1) + \".\" + \"\\t\" + item)\n",
    "    except OSError:\n",
    "        print(\"Could not find inventory file.\")\n",
    "        print(\"Inventory presumed to be empty.\")\n",
    "\n",
    "def walk() -> None:\n",
    "    \"\"\"Picks a random item from the wizards items file and gives the user the option to pick up the item.\n",
    "    If they have inventory space, adds the item to the inventory file.\"\"\"\n",
    "    # Pick an item to find on the path\n",
    "    item = get_random_item()\n",
    "    # Ensure the item exists, if not, return early\n",
    "    if item is None:\n",
    "        return\n",
    "    # Display item to user\n",
    "    print(\"While walking down a path, you see \" + item + \".\")\n",
    "\n",
    "    # Get user's request if they should pick it up or not\n",
    "    do_grab = input(\"Do you want to grab it? (y/n): \")\n",
    "\n",
    "    # If they want to pick up the item\n",
    "    if do_grab == \"y\":\n",
    "        # Get inventory item count\n",
    "        item_count = get_inventory_count()\n",
    "        \n",
    "        # If the item count is below the max allowed count, add the item \n",
    "        if item_count < 4:\n",
    "                add_to_inventory(item)\n",
    "                print(\"You picked up \" + item + \".\")\n",
    "        # If their inventory is overfilled\n",
    "        else:\n",
    "            print(\"You can't carry any more items. Drop something first.\")\n",
    "\n",
    "def drop() -> None:\n",
    "    \"\"\"Gets user select for what item they want to drop. Then removes that item from the inventory file.\n",
    "    Has checks to ensure desired item exists.\"\"\"\n",
    "    try:\n",
    "        to_drop = int(input(\"Number: \"))\n",
    "        item_count = get_inventory_count()\n",
    "    except ValueError:\n",
    "        print(\"Only input integer values.\")\n",
    "        print(\"You did not drop any items.\")\n",
    "        return\n",
    "\n",
    "    if to_drop <= item_count and to_drop > 0:\n",
    "        removed_item = remove_from_inventory(to_drop)\n",
    "        print(\"You dropped \" + str(removed_item) + \".\")\n",
    "    else:\n",
    "        print(\"Oops. Item selected not in inventory.\")\n",
    "\n",
    "def get_command() -> bool:\n",
    "    \"\"\"Prompts for user input, and runs any valid commands inputted by the user.\n",
    "    Returns whether True when a new command should prompted after this one.\"\"\"\n",
    "    # Get user input\n",
    "    command = input(\"Command: \")\n",
    "    # Switch case: Takes the user input and runs the associated function\n",
    "    match command:\n",
    "        case \"walk\": \n",
    "            walk()\n",
    "        case \"show\":\n",
    "            show()\n",
    "        case \"drop\":\n",
    "            drop()\n",
    "        # Special cases for exit and command not found\n",
    "        # Exit simply says returns that new commands should be run\n",
    "        # Actual program exit is handled by function caller\n",
    "        case \"exit\":\n",
    "            print(\"Bye!\")\n",
    "            return False\n",
    "        # Command not matched prints an error message\n",
    "        case _:\n",
    "            print(\"Oops, not a command.\")\n",
    "    # Spacing after each command so each new command has padding\n",
    "    print(\"\")\n",
    "    # Return that yes, a new command should be executed again (handled by function caller)\n",
    "    return True\n",
    "        \n",
    "\n",
    "def main() -> None:\n",
    "    \"\"\"Contains the primary game loop and logic.\"\"\"\n",
    "    # Display starting screen menu\n",
    "    start_menu()\n",
    "    # Run a command until no new commands should be run\n",
    "    # (get_command returns true if a another command should be run)\n",
    "    # should_run will always be true unless the program requests to exit early\n",
    "    while get_command() and should_run:\n",
    "        pass\n",
    "\n",
    "if __name__ == \"__main__\":\n",
    "    main()"
   ]
  },
  {
   "cell_type": "code",
   "execution_count": null,
   "metadata": {},
   "outputs": [],
   "source": []
  }
 ],
 "metadata": {
  "kernelspec": {
   "display_name": "Python 3 (ipykernel)",
   "language": "python",
   "name": "python3"
  },
  "language_info": {
   "codemirror_mode": {
    "name": "ipython",
    "version": 3
   },
   "file_extension": ".py",
   "mimetype": "text/x-python",
   "name": "python",
   "nbconvert_exporter": "python",
   "pygments_lexer": "ipython3",
   "version": "3.13.2"
  }
 },
 "nbformat": 4,
 "nbformat_minor": 4
}
