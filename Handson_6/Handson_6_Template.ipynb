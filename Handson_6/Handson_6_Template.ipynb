{
 "cells": [
  {
   "cell_type": "markdown",
   "metadata": {},
   "source": [
    "# Dictionaries\n",
    "\n",
    "To submit this assignment in D2l, post the link to your notebook file on your GitHub account."
   ]
  },
  {
   "cell_type": "markdown",
   "metadata": {},
   "source": [
    "## 12.1 Champion Counter\n",
    "Create a program that reads a text file that contains a list of FIFA World Cup champions and determines the country that has won the most championships.\n",
    "\n",
    "### Console:\n",
    "```powershell\n",
    "Country\t        Wins\tYears\t\n",
    "=======\t        ====\t=====\t\n",
    "Argentina       2       1978, 1986\n",
    "Brazil\t        5       1958, 1962, 1970, 1994, 2002\n",
    "England\t        1       1966\t\t\n",
    "France\t        1       1998\t\t\n",
    "Germany\t        4       1954, 1974, 1990, 2014\n",
    "Italy\t        4       1934, 1938, 1982, 2006\n",
    "Spain\t        1       2010\n",
    "Uruguay\t        2       1930, 1950\n",
    "```\n",
    "\n",
    "### Specifications:\n",
    "- Use the attached text file named `world_cup_champions.txt` that contains data like this: \n",
    "```powershell\n",
    "Year,Country,Coach,Captain \n",
    "1930,Uruguay,Alberto Suppici,José Nasazzi \n",
    "1934,Italy,Vittorio Pozzo,Gianpiero Combi \n",
    "1938,Italy,Vittorio Pozzo,Giuseppe Meazza\n",
    "...\n",
    "```\n",
    "- When the program starts, it should read the text file and use a dictionary to store the required data using the name of each country that has won the World Cup as the key.\n",
    "- The program should compile the data shown above and display the countries alphabetically.\n",
    "\n"
   ]
  },
  {
   "cell_type": "code",
   "execution_count": 3,
   "metadata": {},
   "outputs": [
    {
     "name": "stdout",
     "output_type": "stream",
     "text": [
      "Country\t\tWins\tYears\n",
      "=======\t\t====\t=====\n",
      "Argentina\t2\t1978 1986\n",
      "Brazil\t\t5\t1958 1962 1970 1994 2002\n",
      "England\t\t1\t1966\n",
      "France\t\t1\t1998\n",
      "Germany\t\t4\t1954 1974 1990 2014\n",
      "Italy\t\t4\t1934 1938 1982 2006\n",
      "Spain\t\t1\t2010\n",
      "Uruguay\t\t2\t1930 1950\n"
     ]
    }
   ],
   "source": [
    "import csv\n",
    "\n",
    "def main():\n",
    "    with open(\"world_cup_champions.txt\", \"r\") as file:\n",
    "        # read win data into a dict reader\n",
    "        file_dict = csv.DictReader(file)\n",
    "\n",
    "        # Dict to store reformatted win information\n",
    "        stats = {}\n",
    "        \n",
    "        # for each win (year) in the file's dict\n",
    "        for line in file_dict:\n",
    "            # Country name\n",
    "            country = line[\"Country\"]\n",
    "\n",
    "            # If the country exists in stats, update it\n",
    "            if country in stats:\n",
    "                wins = stats[country][\"Wins\"] + 1\n",
    "                years = stats[country][\"Years\"] + \" \" + line[\"Year\"]\n",
    "            # If the country is not in the stats dict, do not attempt to add to orignal data\n",
    "            else:\n",
    "                wins = 1\n",
    "                years = line[\"Year\"]\n",
    "            \n",
    "            #Save country's data\n",
    "            data = {\"Wins\" : wins, \"Years\": years}\n",
    "            stats.update({country : data})\n",
    "\n",
    "        # Sort dict by making it a list\n",
    "        stats_list = list(stats)\n",
    "        stats_list.sort()\n",
    "        \n",
    "        # Print out the countries\n",
    "        print(\"Country\\t\\tWins\\tYears\")\n",
    "        print(\"=======\\t\\t====\\t=====\")\n",
    "        for country in stats_list:\n",
    "            # Print out the country with its win count and win years.\n",
    "            # Tenary to control how much spacing between the country and win counting...\n",
    "            # ...as Argentina is too long and messes with the spacing\n",
    "            print(country + (\"\\t\" if len(country) < 9 else \"\") + \"\\t\" + str(stats[country][\"Wins\"]) + \"\\t\" + stats[country][\"Years\"])\n",
    "\n",
    "if __name__ == \"__main__\":\n",
    "    main()"
   ]
  },
  {
   "cell_type": "markdown",
   "metadata": {},
   "source": [
    "## 12.2 Monthly Sales\n",
    "Create a program that allows you to view and edit the sales amounts for each month of the current year.\n",
    "\n",
    "### Console:\n",
    "```powershell\n",
    "Monthly Sales program\n",
    "\n",
    "COMMAND MENU\n",
    "view\t- View sales for specified month \n",
    "edit\t- Edit sales for specified month \n",
    "totals - View sales summary for year \n",
    "exit\t- Exit program\n",
    "\n",
    "Command: view\n",
    "Three-letter Month: jan\n",
    "Sales amount for Jan is 14,317.00.\n",
    "\n",
    "Command: edit\n",
    "Three-letter Month: jan \n",
    "Sales Amount: 15293\n",
    "Sales amount for Jan is 15,293.00.\n",
    "\n",
    "Command: totals\n",
    "Yearly total: 67,855.00\n",
    "Monthly average: 5,654.58\n",
    "\n",
    "Command: view\n",
    "Three-letter Month: july \n",
    "Invalid three-letter month.\n",
    "\n",
    "Command: exit Bye!\n",
    "```\n",
    "\n",
    "### Specifications:\n",
    "- Use the attached text file named `monthly_sales.txt` that consists of rows that contain three-letter abbreviations for the month and the monthly sales.\n",
    "- The program should read the file and store the sales data for each month in a dictionary with the month abbreviation as the key for each item.\n",
    "- Whenever the sales data is edited, the program should write the changed data to the text file.\n",
    "\n",
    "\n"
   ]
  },
  {
   "cell_type": "code",
   "execution_count": 26,
   "metadata": {},
   "outputs": [
    {
     "name": "stdout",
     "output_type": "stream",
     "text": [
      "Monthly Sales program\n",
      "\n",
      "COMMAND MENU\n",
      "view\t- View sales for specified month\n",
      "edit\t- Edit sales for specified month\n",
      "totals - View sales summary for year\n",
      "exit\t- Exit program\n",
      "\n"
     ]
    },
    {
     "name": "stdin",
     "output_type": "stream",
     "text": [
      "Command:  view\n",
      "Three-Letter Month:  Jan\n"
     ]
    },
    {
     "name": "stdout",
     "output_type": "stream",
     "text": [
      "Sales amount for Jan is 100.\n",
      "\n"
     ]
    },
    {
     "name": "stdin",
     "output_type": "stream",
     "text": [
      "Command:  view\n",
      "Three-Letter Month:  Bob\n"
     ]
    },
    {
     "name": "stdout",
     "output_type": "stream",
     "text": [
      "Invalid three-letter month.\n",
      "\n"
     ]
    },
    {
     "name": "stdin",
     "output_type": "stream",
     "text": [
      "Command:  edit\n",
      "Three-Letter Month:  Jan\n",
      "Sales Amount:  100\n"
     ]
    },
    {
     "name": "stdout",
     "output_type": "stream",
     "text": [
      "Sales amount for Jan is 100.\n",
      "\n"
     ]
    },
    {
     "name": "stdin",
     "output_type": "stream",
     "text": [
      "Command:  view\n",
      "Three-Letter Month:  Jan\n"
     ]
    },
    {
     "name": "stdout",
     "output_type": "stream",
     "text": [
      "Sales amount for Jan is 100.\n",
      "\n"
     ]
    },
    {
     "name": "stdin",
     "output_type": "stream",
     "text": [
      "Command:  totals\n"
     ]
    },
    {
     "name": "stdout",
     "output_type": "stream",
     "text": [
      "Yearly total: 52662\n",
      "Monthly average: 4388.5\n",
      "\n"
     ]
    },
    {
     "name": "stdin",
     "output_type": "stream",
     "text": [
      "Command:  exit\n"
     ]
    },
    {
     "name": "stdout",
     "output_type": "stream",
     "text": [
      "Bye!\n"
     ]
    }
   ],
   "source": [
    "import csv\n",
    "FILE = \"monthly_sales.txt\"\n",
    "\n",
    "def menu():\n",
    "    \"\"\"Displays the main menu into the console.\"\"\"\n",
    "    print(\"Monthly Sales program\")\n",
    "    print(\"\")\n",
    "    print(\"COMMAND MENU\")\n",
    "    print(\"view\t- View sales for specified month\")\n",
    "    print(\"edit\t- Edit sales for specified month\")\n",
    "    print(\"totals - View sales summary for year\")\n",
    "    print(\"exit\t- Exit program\")\n",
    "    print(\"\")\n",
    "\n",
    "def read_sales():\n",
    "    \"\"\"Reads the sales file and returns its contents as a dict.\"\"\"\n",
    "    # csv reader can be used with non-comma delimiters\n",
    "    with open(FILE, \"r\") as file:\n",
    "        # read sales data\n",
    "        data = csv.reader(file, delimiter = \"\\t\")\n",
    "        # return it as a dict\n",
    "        return dict(data)\n",
    "        \n",
    "def write_sales(sales):\n",
    "    \"\"\"Takes a dict as a param, and uses it to overwrite the sales file.\"\"\"\n",
    "    with open(FILE, \"w\") as file:\n",
    "        for month in sales:\n",
    "            file.write(month + \"\\t\" + str(sales[month]) + \"\\n\")\n",
    "    \n",
    "def view():\n",
    "    \"\"\"Get user input for one month's sales to view from the file.\"\"\"\n",
    "    month = input(\"Three-Letter Month: \")\n",
    "    sales = read_sales()\n",
    "    if month in sales:\n",
    "        print(\"Sales amount for\", month, \"is\", sales[month]+ \".\")\n",
    "    else:\n",
    "        print(\"Invalid three-letter month.\")\n",
    "\n",
    "def totals():\n",
    "    \"\"\"Displays the total sales for the year\"\"\"\n",
    "    total = 0\n",
    "    sales = read_sales()\n",
    "    for month in sales:\n",
    "        total += int(sales[month])\n",
    "    print(\"Yearly total:\", total)\n",
    "    print(\"Monthly average:\", (total/12))\n",
    "\n",
    "def edit():\n",
    "    \"\"\"Get user input for one month, get a new sales value, and overwrite the sales file with the new data.\"\"\"\n",
    "    month = input(\"Three-Letter Month: \")\n",
    "    sales = read_sales()\n",
    "    if month in sales:\n",
    "        amount = input(\"Sales Amount: \")\n",
    "        sales[month] = amount \n",
    "        write_sales(sales)\n",
    "        print(\"Sales amount for\", month, \"is\", sales[month]+ \".\")\n",
    "    else:\n",
    "        print(\"Invalid three-letter month.\")\n",
    "    \n",
    "\n",
    "def command_loop():\n",
    "    \"\"\"Gets user commands and executes them until the user enters the exit command. Then returns.\"\"\"\n",
    "    while True:\n",
    "        user = input(\"Command: \")\n",
    "\n",
    "        match user:\n",
    "            case \"view\":\n",
    "                view()\n",
    "            case \"edit\":\n",
    "                edit()\n",
    "            case \"totals\":\n",
    "                totals()\n",
    "            case \"exit\":\n",
    "                return\n",
    "            case _:\n",
    "                print(\"That is not a valid command. Try again.\")\n",
    "        print(\"\")\n",
    "\n",
    "def main():\n",
    "    # Display the command menu\n",
    "    menu()\n",
    "    # Request and execute commands\n",
    "    command_loop()\n",
    "    # After the user exits the command loop, tell them goodbye\n",
    "    print(\"Bye!\")\n",
    "    \n",
    "if __name__ == \"__main__\":\n",
    "    main()"
   ]
  },
  {
   "cell_type": "code",
   "execution_count": null,
   "metadata": {},
   "outputs": [],
   "source": []
  }
 ],
 "metadata": {
  "kernelspec": {
   "display_name": "Python 3 (ipykernel)",
   "language": "python",
   "name": "python3"
  },
  "language_info": {
   "codemirror_mode": {
    "name": "ipython",
    "version": 3
   },
   "file_extension": ".py",
   "mimetype": "text/x-python",
   "name": "python",
   "nbconvert_exporter": "python",
   "pygments_lexer": "ipython3",
   "version": "3.13.2"
  }
 },
 "nbformat": 4,
 "nbformat_minor": 4
}
