{
 "cells": [
  {
   "cell_type": "markdown",
   "metadata": {},
   "source": [
    "# Strings\n",
    "\n",
    "To submit this assignment in D2l, post the link to your notebook file on your GitHub account."
   ]
  },
  {
   "cell_type": "markdown",
   "metadata": {},
   "source": [
    "## 10.1 Email Creator\n",
    "Create a program that reads a file and creates a series of emails.\n",
    "\n",
    "### Console:\n",
    "```powershell\n",
    "Email Creator\n",
    "\n",
    "================================================================\n",
    "To: jbutler@gmail.com \n",
    "From: noreply@deals.com \n",
    "Subject: Deals!\n",
    "\n",
    "Hi James,\n",
    "\n",
    "We've got some great deals for you. Check our website!\n",
    "================================================================\n",
    "To:\tjosephine_darakjy@darakjy.org \n",
    "From:\tnoreply@deals.com\n",
    "Subject: Deals! \n",
    "\n",
    "Hi Josephine,\n",
    "\n",
    "We've got some great deals for you. Check our website!\n",
    "================================================================\n",
    "To:\tart@venere.org\n",
    "From:\tnoreply@deals.com \n",
    "Subject: Deals!\n",
    "\n",
    "Hi Art,\n",
    "\n",
    "We've got some great deals for you. Check our website!\n",
    "```\n",
    "\n",
    "### Specifications:\n",
    "- Use `email.csv` file:\n",
    "- Use `email_template.txt` file:\n",
    "- When the program starts, it should read the email addresses and first names from the file, merge them into the mass email template, and display the results on the console.\n",
    "- All email addresses should be converted to **lowercase**.\n",
    "- All first names should be converted to **title case**.\n",
    "- If you add names to the list of email addresses, the program should create more emails.\n",
    "- If you modify the template, the program should change the content of the email that’s created. \n",
    "\n"
   ]
  },
  {
   "cell_type": "code",
   "execution_count": 25,
   "metadata": {},
   "outputs": [
    {
     "name": "stdout",
     "output_type": "stream",
     "text": [
      "Email Creator\n",
      "\n",
      "================================================================\n",
      "To:      jbutt@gmail.com\n",
      "From:    noreply@deals.com\n",
      "Subject: Deals!\n",
      "\n",
      "Hi James,\n",
      "\n",
      "We've got some great deals for you. Check our website!\n",
      "================================================================\n",
      "To:      josephine_darakjy@darakjy.org\n",
      "From:    noreply@deals.com\n",
      "Subject: Deals!\n",
      "\n",
      "Hi Josephine,\n",
      "\n",
      "We've got some great deals for you. Check our website!\n",
      "================================================================\n",
      "To:      art@venere.org\n",
      "From:    noreply@deals.com\n",
      "Subject: Deals!\n",
      "\n",
      "Hi Art,\n",
      "\n",
      "We've got some great deals for you. Check our website!\n"
     ]
    }
   ],
   "source": [
    "import csv\n",
    "\n",
    "def make_email(first, last, to):\n",
    "    \"\"\"Opens the email template and makes emails based off of it.\"\"\"\n",
    "    try:\n",
    "        with open(\"email_template.txt\") as file:\n",
    "            print(\"================================================================\")\n",
    "            email = \"\"\n",
    "            for line in file:\n",
    "                email += line\n",
    "                \n",
    "            email = email.replace(\"{email}\", to)\n",
    "            email = email.replace(\"{last_name}\", last)\n",
    "            email = email.replace(\"{first_name}\", first.title())\n",
    "            \n",
    "            print(email)\n",
    "    except OSError:\n",
    "        print(\"Cannot open template file. Oops.\")\n",
    "\n",
    "def main():\n",
    "    \"\"\"Opens the email.csv file and makes emails based on the email_template.txt document\"\"\"\n",
    "    print(\"Email Creator\")\n",
    "    print()\n",
    "    try:\n",
    "        with open(\"email.csv\") as file:\n",
    "            data = list(csv.reader(file, delimiter = ','))\n",
    "            for d in data:\n",
    "                make_email(d[0],d[1], d[2])\n",
    "    except OSError:\n",
    "        print(\"Oops. No email.csv\")\n",
    "\n",
    "if __name__ == \"__main__\":\n",
    "    main()"
   ]
  },
  {
   "cell_type": "markdown",
   "metadata": {},
   "source": [
    "## 10.2 Pig Latin Translator\n",
    "\n",
    "Create a program that translates English to Pig Latin.\n",
    "\n",
    "### Console:\n",
    "```powershell\n",
    "Pig Latin Translator\n",
    "\n",
    "Enter text: Tis but a scratch. \n",
    "English:\ttis but a scratch\n",
    "Pig Latin:\tistay utbay away atchscray \n",
    "\n",
    "Continue? (y/n): y\n",
    "\n",
    "Enter text: We are the knights who say nee!\n",
    "English:\twe are the knights who say nee\n",
    "Pig Latin:\teway areway ethay ightsknay owhay aysay eenay \n",
    "\n",
    "Continue? (y/n): n\n",
    "\n",
    "Bye!\n",
    "```\n",
    "\n",
    "### Specifications:\n",
    "- Convert the English to lowercase before translating.\n",
    "- Remove the following punctuation characters before translating `! , ; : - . ?`\n",
    "- Assume that words are separated from each other by a single space.\n",
    "- If the word starts with a vowel, just add *way* to the end of the word.\n",
    "- If the word starts with a consonant, move all of the consonants that appear before the first vowel to the end of the word, then add *ay* to the end of the word.\n",
    "\n",
    "### Note:\n",
    "- There are no official rules for Pig Latin. Most people agree on how words that begin with consonants are translated, but there are many different ways to handle words that begin with vowels.\n"
   ]
  },
  {
   "cell_type": "code",
   "execution_count": 10,
   "metadata": {},
   "outputs": [
    {
     "name": "stdout",
     "output_type": "stream",
     "text": [
      "Pig Latin Translator\n",
      "\n"
     ]
    },
    {
     "name": "stdin",
     "output_type": "stream",
     "text": [
      "Enter text:  text ay text\n"
     ]
    },
    {
     "name": "stdout",
     "output_type": "stream",
     "text": [
      "English:\ttext ay text\n",
      "Pig Latin:\texttay ayway exttay \n"
     ]
    },
    {
     "name": "stdin",
     "output_type": "stream",
     "text": [
      "Continue? (y/n):  n\n"
     ]
    },
    {
     "name": "stdout",
     "output_type": "stream",
     "text": [
      "Bye!\n"
     ]
    }
   ],
   "source": [
    "VOWELS = [\"a\", \"e\", \"i\", \"o\", \"u\"]\n",
    "PUNCTUATION = [\"!\", \",\", \";\", \":\", \"-\", \".\", \"?\"]\n",
    "\n",
    "def remove_punc(word):\n",
    "    \"\"\"Returns the word with no punctuation\"\"\"\n",
    "    word = word.strip()\n",
    "    for c in PUNCTUATION:\n",
    "        word = word.replace(c, \"\")\n",
    "    return word\n",
    "\n",
    "def to_pig(word):\n",
    "    \"\"\"Returns the word in pig latin.\"\"\"\n",
    "    # If it starts with a vowel\n",
    "    if word[0] in VOWELS:\n",
    "        return word + \"way\"\n",
    "        \n",
    "    # if the program has yet to find the pig latin form, move constants to the right of the first vowel\n",
    "    first_half = \"\"\n",
    "    for c in word:\n",
    "        if c in VOWELS:\n",
    "            break\n",
    "        else:\n",
    "            first_half += c\n",
    "            \n",
    "    pig = \"\"\n",
    "    pig += word[(len(first_half)):]\n",
    "    pig += first_half\n",
    "    pig += \"ay\"\n",
    "    \n",
    "    return pig\n",
    "\n",
    "def should_continue():\n",
    "    \"\"\"Gets user's input as to whether to continue or not. Does not accept invalid inputs.\"\"\"\n",
    "    while True:\n",
    "        user = input(\"Continue? (y/n): \")\n",
    "        if user == \"y\":\n",
    "            return True\n",
    "        if user == \"n\":\n",
    "            return False\n",
    "    \n",
    "def main():\n",
    "    \"\"\"Pig Latin translator.\"\"\"\n",
    "    print(\"Pig Latin Translator\")\n",
    "    print(\"\")\n",
    "    while True:\n",
    "        # Get word and translate\n",
    "        phrase = input(\"Enter text: \")\n",
    "        phrase = phrase.lower()\n",
    "        phrase = remove_punc(phrase)\n",
    "\n",
    "        words = phrase.split()\n",
    "        pigs = \"\"\n",
    "        for word in words:\n",
    "            pig = to_pig(word)\n",
    "            pigs += pig + \" \"\n",
    "        \n",
    "        print(\"English:\\t\" + phrase)\n",
    "        print(\"Pig Latin:\\t\" + pigs)\n",
    "\n",
    "        # Should we go again?\n",
    "        if not(should_continue()):\n",
    "            break\n",
    "        print(\"\")\n",
    "        \n",
    "    print(\"\")\n",
    "    print(\"Bye!\")\n",
    "\n",
    "if __name__ == \"__main__\":\n",
    "    main()"
   ]
  },
  {
   "cell_type": "code",
   "execution_count": null,
   "metadata": {},
   "outputs": [],
   "source": []
  }
 ],
 "metadata": {
  "kernelspec": {
   "display_name": "Python 3 (ipykernel)",
   "language": "python",
   "name": "python3"
  },
  "language_info": {
   "codemirror_mode": {
    "name": "ipython",
    "version": 3
   },
   "file_extension": ".py",
   "mimetype": "text/x-python",
   "name": "python",
   "nbconvert_exporter": "python",
   "pygments_lexer": "ipython3",
   "version": "3.13.2"
  }
 },
 "nbformat": 4,
 "nbformat_minor": 4
}
