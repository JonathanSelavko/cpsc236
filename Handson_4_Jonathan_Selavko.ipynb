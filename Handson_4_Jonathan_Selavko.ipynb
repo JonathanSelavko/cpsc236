{
 "cells": [
  {
   "cell_type": "markdown",
   "metadata": {},
   "source": [
    "# List and Tuples\n",
    "\n",
    "To submit this assignment in D2l, post the link to your notebook file on your GitHub account."
   ]
  },
  {
   "cell_type": "markdown",
   "metadata": {},
   "source": [
    "## 6.1 Prime Number Checker\n",
    "Create a program that checks whether a number is a prime number and displays its factors if it is not a prime number.\n",
    "\n",
    "### Console:\n",
    "```powershell\n",
    "Prime Number Checker\n",
    "\n",
    "Please enter an integer between 1 and 5000: 5\n",
    "5 is a prime number.\n",
    "\n",
    "Try again? (y/n): y\n",
    "\n",
    "Please enter an integer between 1 and 5000: 6\n",
    "6 is NOT a prime number.\n",
    "It has 4 factors: 1 2 3 6\n",
    "\n",
    "Try again? (y/n): y\n",
    "\n",
    "Please enter an integer between 1 and 5000: 200\n",
    "200 is NOT a prime number.\n",
    "It has 12 factors: 1 2 4 5 8 10 20 25 40 50 100 200\n",
    "\n",
    "Try again? (y/n): n\n",
    "\n",
    "Bye!\n",
    "```\n",
    "\n",
    "### Specifications:\n",
    "- A prime number is divisible by two factors (1 and itself). For example, 7 is a prime number because it is only divisible by 1 and 7.\n",
    "- If the user enters an integer that's not between 1 and 5000, the program should display an error message.\n",
    "- If the number is a prime number, the program should display a message.\n",
    "If the number is not a prime number, the program should display a message. Then, it should display the number of factors for the number and a list of those factors.\n",
    "- Store the factors for each number in a list.\n",
    "- Use functions to organize the code for this program.\n"
   ]
  },
  {
   "cell_type": "code",
   "execution_count": 8,
   "metadata": {},
   "outputs": [
    {
     "name": "stdout",
     "output_type": "stream",
     "text": [
      "Prime Number Checker\n",
      "\n"
     ]
    },
    {
     "name": "stdin",
     "output_type": "stream",
     "text": [
      "Please enter an integer between 1 and 5000:  50\n"
     ]
    },
    {
     "name": "stdout",
     "output_type": "stream",
     "text": [
      "50 is NOT a prime number.\n",
      "It has 6 factors: 1 2 5 10 25 50 \n",
      "\n"
     ]
    },
    {
     "name": "stdin",
     "output_type": "stream",
     "text": [
      "Again? (y/n):  y\n"
     ]
    },
    {
     "name": "stdout",
     "output_type": "stream",
     "text": [
      "\n"
     ]
    },
    {
     "name": "stdin",
     "output_type": "stream",
     "text": [
      "Please enter an integer between 1 and 5000:  1\n"
     ]
    },
    {
     "name": "stdout",
     "output_type": "stream",
     "text": [
      "Invalid integer. Please try again.\n"
     ]
    },
    {
     "name": "stdin",
     "output_type": "stream",
     "text": [
      "Please enter an integer between 1 and 5000:  4\n"
     ]
    },
    {
     "name": "stdout",
     "output_type": "stream",
     "text": [
      "4 is NOT a prime number.\n",
      "It has 3 factors: 1 2 4 \n",
      "\n"
     ]
    },
    {
     "name": "stdin",
     "output_type": "stream",
     "text": [
      "Again? (y/n):  y\n"
     ]
    },
    {
     "name": "stdout",
     "output_type": "stream",
     "text": [
      "\n"
     ]
    },
    {
     "name": "stdin",
     "output_type": "stream",
     "text": [
      "Please enter an integer between 1 and 5000:  3\n"
     ]
    },
    {
     "name": "stdout",
     "output_type": "stream",
     "text": [
      "3 is a prime number.\n",
      "\n"
     ]
    },
    {
     "name": "stdin",
     "output_type": "stream",
     "text": [
      "Again? (y/n):  n\n"
     ]
    },
    {
     "name": "stdout",
     "output_type": "stream",
     "text": [
      "\n",
      "Bye!\n"
     ]
    }
   ],
   "source": [
    "## CODE MODIFIED FROM HANDSON_3 ##\n",
    "\n",
    "def get_valid_int():\n",
    "    \"\"\"Prompts the user until they input an int between 1 and 5000. Returns the inputted int. Has validation\"\"\" \n",
    "    # Keep prompting for the number until it is valid and the function returns\n",
    "    while True:\n",
    "        user = input(\"Please enter an integer between 1 and 5000: \")\n",
    "        # Try statement to protect program from value error crashes in case user inputs non-ints.\n",
    "        try:\n",
    "            # Convert string input to int\n",
    "            num = int(user)\n",
    "            # If the number converts succesfully and is a valid number, return the number\n",
    "            # Kills the function and thus the loop, acting like a break statement\n",
    "            if num > 1 and num < 5000:\n",
    "                return num\n",
    "        # Empty catch as print statement below will alert user.\n",
    "        except ValueError:\n",
    "            pass\n",
    "        # If the number did not return (and thus is invalid), alert the user and restart loop\n",
    "        print(\"Invalid integer. Please try again.\")\n",
    "\n",
    "def get_factors(num):\n",
    "    \"\"\"Accepts an int. Returns a list of factors of the int.\"\"\"\n",
    "    # Keeps track of the factors the int has\n",
    "    factors = []\n",
    "    # Attempt to divide the int by all numbers from 1 to itself.\n",
    "    for x in range(1, num + 1):\n",
    "        # Add x to the factor list if x is a factor of the int \n",
    "        if num % x == 0:\n",
    "            factors.append(x)\n",
    "    # After looping through 1 to the int, return the factor list\n",
    "    return factors\n",
    "\n",
    "def main():\n",
    "    \"\"\"Gets a user selected number, and displays whether it is a prime number.\n",
    "    If not, displays the amount of factors the number has. Continues until user ends the program.\"\"\"\n",
    "    # Title\n",
    "    print(\"Prime Number Checker\")\n",
    "    print(\"\")\n",
    "    \n",
    "    while True:\n",
    "        # Get input and the inputted numbers factor count\n",
    "        num = get_valid_int()\n",
    "        factors = get_factors(num)\n",
    "\n",
    "        # Check if it is a prime number and display the found information\n",
    "        if len(factors) == 2: # Prime numbers have two factors each\n",
    "            print(num, \"is a prime number.\")\n",
    "        else: \n",
    "            print(num, \"is NOT a prime number.\")\n",
    "            print(\"It has\", len(factors), \"factors: \", end=\"\")\n",
    "            for f in factors: # Print each factor inline\n",
    "                print(f, end = \" \")\n",
    "            print(\"\")\n",
    "\n",
    "        # Check if program should terminate\n",
    "        print(\"\")\n",
    "        selection = input(\"Again? (y/n): \")\n",
    "        print(\"\")\n",
    "        \n",
    "        # If the user selects yes, print goodbye and exit loop.\n",
    "        if selection != \"y\":\n",
    "            print(\"Bye!\")\n",
    "            break\n",
    "    \n",
    "# Call main\n",
    "if __name__ == \"__main__\":\n",
    "    main()"
   ]
  },
  {
   "cell_type": "markdown",
   "metadata": {},
   "source": [
    "## 6.2 - Contact Manager\n",
    "Create a program that a user can use to manage the primary email address and phone number for a contact.\n",
    "\n",
    "### Console\n",
    "```powershell\n",
    "Contact Manager\n",
    "\n",
    "COMMAND MENU\n",
    "list - Display all contacts\n",
    "view - View a contact\n",
    "add - Add a contact\n",
    "del - Delete a contact\n",
    "exit - Exit program\n",
    "\n",
    "Command: list\n",
    "1. Guido van Rossum\n",
    "2. Eric Idle\n",
    "\n",
    "Command: view\n",
    "Number: 2\n",
    "Name: Eric Idle\n",
    "Email: eric@ericidle.com\n",
    "Phone: +44 20 7946 0958\n",
    "\n",
    "Command: add\n",
    "Name: Mike Murach\n",
    "Email: mike@murach.com\n",
    "Phone: 559-123-4567\n",
    "Mike Murach was added.\n",
    "\n",
    "Command: del\n",
    "Number: 1\n",
    "Guido van Rossum was deleted.\n",
    "\n",
    "Command: list\n",
    "1. Eric Idle\n",
    "2. Mike Murach\n",
    "\n",
    "Command: exit\n",
    "Bye!\n",
    "```\n",
    "\n",
    "### Specifications:\n",
    "- Use a list of lists to store the data for the contacts. Provide starting data for two or more contacts.\n",
    "- For the `view` and `del` commands, display an error message if the user enters and invalid contact number.\n",
    "- When you exit the program, all changes that you made to the contact list are lost.\n",
    "\n",
    "\n"
   ]
  },
  {
   "cell_type": "code",
   "execution_count": 11,
   "metadata": {},
   "outputs": [
    {
     "name": "stdout",
     "output_type": "stream",
     "text": [
      "Contact Manager\n",
      "\n"
     ]
    },
    {
     "name": "stdin",
     "output_type": "stream",
     "text": [
      "Command:  view\n",
      "Number:  2\n"
     ]
    },
    {
     "name": "stdout",
     "output_type": "stream",
     "text": [
      "Name : Eric Idle\n",
      "Email : eric@ericidle.com\n",
      "Phone : 559-123-4567\n",
      "\n"
     ]
    },
    {
     "name": "stdin",
     "output_type": "stream",
     "text": [
      "Command:  list\n"
     ]
    },
    {
     "name": "stdout",
     "output_type": "stream",
     "text": [
      "1. Bob Dylan\n",
      "2. Eric Idle\n",
      "\n"
     ]
    },
    {
     "name": "stdin",
     "output_type": "stream",
     "text": [
      "Command:  add\n",
      "Name: 1\n",
      "Email: 2\n",
      "Phone: 3\n"
     ]
    },
    {
     "name": "stdout",
     "output_type": "stream",
     "text": [
      "\n"
     ]
    },
    {
     "name": "stdin",
     "output_type": "stream",
     "text": [
      "Command:  list\n"
     ]
    },
    {
     "name": "stdout",
     "output_type": "stream",
     "text": [
      "1. Bob Dylan\n",
      "2. Eric Idle\n",
      "3. 1\n",
      "\n"
     ]
    },
    {
     "name": "stdin",
     "output_type": "stream",
     "text": [
      "Command:  del\n",
      "Number:  1\n"
     ]
    },
    {
     "name": "stdout",
     "output_type": "stream",
     "text": [
      "Bob Dylan was deleted.\n",
      "\n"
     ]
    },
    {
     "name": "stdin",
     "output_type": "stream",
     "text": [
      "Command:  list\n"
     ]
    },
    {
     "name": "stdout",
     "output_type": "stream",
     "text": [
      "1. Eric Idle\n",
      "2. 1\n",
      "\n"
     ]
    },
    {
     "name": "stdin",
     "output_type": "stream",
     "text": [
      "Command:  exit\n"
     ]
    },
    {
     "name": "stdout",
     "output_type": "stream",
     "text": [
      "Bye!\n"
     ]
    }
   ],
   "source": [
    "# Format for a single contact.\n",
    "# (Used by rest of program to know which index is which field)\n",
    "CONTACT_FORMAT = [\"Name\", \"Email\", \"Phone\"]\n",
    "# Stores contact information (prefilled with two contacts as examples)\n",
    "contacts = [\n",
    "    [\"Bob Dylan\", \"bbobby@bob.net\", \"888-888-8488\"],\n",
    "    [\"Eric Idle\", \"eric@ericidle.com\", \"559-123-4567\" ]\n",
    "]\n",
    "\n",
    "def display_menu():\n",
    "    \"\"\"Displays the options a user can enter as commands\"\"\"\n",
    "    \n",
    "    print(\"COMMAND MENU\")\n",
    "    print(\"list - Display all contacts\")\n",
    "    print(\"view - View a contact\")\n",
    "    print(\"add - Add a contact\")\n",
    "    print(\"del - Delete a contact\")\n",
    "    print(\"exit - Exit program\")\n",
    "    \n",
    "\n",
    "def user_index():\n",
    "    \"\"\" Prompts the user for a contact number. Attempts to return a valid index to the chosen contact.\n",
    "    If an error occurs, displays an error message and returns None.\n",
    "    Note: Return may result with None. Use 'is not None' to check return value.\"\"\"\n",
    "\n",
    "    # Try catches non numerical inputs\n",
    "    try:\n",
    "        # Get the user's desired contact number\n",
    "        index = int(input(\"Number: \"))\n",
    "        # Convert contact number to index\n",
    "        # (contact number starts at 1, indexes must start at 0)\n",
    "        index = index - 1\n",
    "        # Check if context is inbounds for the contacts array, if yes, return the valid index\n",
    "        if index >= 0 and index < len(contacts):\n",
    "            return index\n",
    "    # We will output an error to the user below, so pass user input exception (ValueError)\n",
    "    except ValueError:\n",
    "        pass\n",
    "\n",
    "    # If a valid index is not returned by the end of the fuction, display a user error and return None\n",
    "    print(\"Invalid input, returning to menu.\")\n",
    "    return None\n",
    "\n",
    "\n",
    "def del_():\n",
    "    \"\"\"Prompts the user for a contact to delete from the contacts list. Then removes this contact from the list\n",
    "    and informs the user it has done so.\"\"\"\n",
    "\n",
    "    # Get user contact selection\n",
    "    contact_index = user_index()\n",
    "    # If user_index() returned None due to failed user input, exit function early\n",
    "    if contact_index is None: \n",
    "        return None\n",
    "\n",
    "    # Delete contact and save the contact temporarily\n",
    "    deleted_contact = contacts.pop(contact_index)\n",
    "\n",
    "    # Display confirmation using temp variable\n",
    "    deleted_name = deleted_contact[CONTACT_FORMAT.index(\"Name\")]\n",
    "    print(deleted_name, \"was deleted.\")\n",
    "\n",
    "    \n",
    "def view():\n",
    "    \"\"\"Prompts the user for a contact to view. Then neatly displays all contact information.\"\"\"\n",
    "\n",
    "    # Gets contact index from user\n",
    "    index = user_index()\n",
    "    # If user_index() returned None due to failed user input, exit function early\n",
    "    if index is None: \n",
    "        return None\n",
    "        \n",
    "    # Get the contact\n",
    "    contact = contacts[index]\n",
    "\n",
    "    # Display each key and value pair for each contact field\n",
    "    # Use zip to loop through the contact and CONTACT_FORMAT at the same time\n",
    "    for value, key in zip(contact, CONTACT_FORMAT):\n",
    "        print(key, \":\", value)\n",
    "\n",
    "\n",
    "def add():\n",
    "    \"\"\"Prompts the user for contact information and adds it into the contacts list as they input the data.\"\"\"\n",
    "    \n",
    "    # add empty list into contacts list, to be filled below\n",
    "    contacts.append([])\n",
    "    new_contact_index = len(contacts) - 1\n",
    "\n",
    "    # For all fields in the CONTACT_FORMAT, get user input and save it into the new contact\n",
    "    for key in CONTACT_FORMAT:\n",
    "        to_append = input(str(key) + \":\")\n",
    "        contacts[new_contact_index].append(to_append)\n",
    "\n",
    "\n",
    "def list():\n",
    "    \"\"\" Displays the contact number and name of every contact in the list.\"\"\"\n",
    "\n",
    "    # Display each contact name with its contact number (its index plus 1)\n",
    "    for index, contact in enumerate(contacts):\n",
    "        name = contact[CONTACT_FORMAT.index(\"Name\")]\n",
    "        print(str(index + 1) + \". \" + name)\n",
    "\n",
    "\n",
    "def command():\n",
    "    \"\"\"Requests the user for a command, and then executes the associated command.\n",
    "    After, re-calls itself to get a new command. Exits by returning True when user calls the 'exit' command.\"\"\"\n",
    "\n",
    "    # Get user selection\n",
    "    selection = input(\"Command: \")\n",
    "\n",
    "    # Switch case for input selection matching\n",
    "    # Calls associated function for each command\n",
    "    match selection:\n",
    "        case \"list\": \n",
    "            list()\n",
    "        case \"view\":\n",
    "            view()\n",
    "        case \"add\":\n",
    "            add()\n",
    "        case \"del\":\n",
    "            del_()\n",
    "        case \"exit\":\n",
    "            # Exit exits the command function instead of calling another function, kills the recursive loop\n",
    "            print(\"Bye!\")\n",
    "            return True\n",
    "        case _:\n",
    "            # If a valid command was not inputted, alert the user\n",
    "            print(\"Not a valid command, please try again\")\n",
    "\n",
    "    # Spacing for prettiness\n",
    "    print(\"\")\n",
    "    # After one command finishes, request another command\n",
    "    command()\n",
    "\n",
    "# Main\n",
    "if __name__ == \"__main__\":\n",
    "    # Print title on program start\n",
    "    print(\"Contact Manager\")\n",
    "    print(\"\")\n",
    "    # Start command interface by requesting first command\n",
    "    command()"
   ]
  },
  {
   "cell_type": "code",
   "execution_count": null,
   "metadata": {},
   "outputs": [],
   "source": []
  }
 ],
 "metadata": {
  "kernelspec": {
   "display_name": "Python 3 (ipykernel)",
   "language": "python",
   "name": "python3"
  },
  "language_info": {
   "codemirror_mode": {
    "name": "ipython",
    "version": 3
   },
   "file_extension": ".py",
   "mimetype": "text/x-python",
   "name": "python",
   "nbconvert_exporter": "python",
   "pygments_lexer": "ipython3",
   "version": "3.13.2"
  }
 },
 "nbformat": 4,
 "nbformat_minor": 4
}
