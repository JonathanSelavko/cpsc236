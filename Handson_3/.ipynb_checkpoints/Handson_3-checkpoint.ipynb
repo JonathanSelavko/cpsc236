{
 "cells": [
  {
   "cell_type": "markdown",
   "metadata": {},
   "source": [
    "# Functions\n",
    "\n",
    "To submit this assignment in D2l, post the link to your notebook file on your GitHub account."
   ]
  },
  {
   "cell_type": "markdown",
   "metadata": {},
   "source": [
    "## 4.1 Even or Odd Checker\n",
    "Create a program that checks whether a number is even or odd.\n",
    "\n",
    "### Console:\n",
    "```powershell\n",
    "Even or Odd Checker\n",
    "\n",
    "Enter an integer: 33\n",
    "This is an odd number.\n",
    "```\n",
    "\n",
    "### Specifications:\n",
    "- Store the code that gets user input and displays output in the main function.\n",
    "- Store the code that checks whether the number is even or odd in a separate function.\n",
    "- Assume that the user will enter a valid integer."
   ]
  },
  {
   "cell_type": "code",
   "execution_count": 6,
   "metadata": {},
   "outputs": [
    {
     "name": "stdout",
     "output_type": "stream",
     "text": [
      "Even or odd checker\n",
      "\n"
     ]
    },
    {
     "name": "stdin",
     "output_type": "stream",
     "text": [
      "Enter an integer:  2\n"
     ]
    },
    {
     "name": "stdout",
     "output_type": "stream",
     "text": [
      "This is an even number.\n"
     ]
    }
   ],
   "source": [
    "def is_even(num):\n",
    "    \"\"\"Takes any number and returns True/False whether the number was even.\"\"\"\n",
    "    if num % 2 == 0:\n",
    "        return True\n",
    "    return False\n",
    "    \n",
    "\n",
    "def main():\n",
    "    \"\"\"Gets user input, then outputs whether the input was even or odd.\"\"\"\n",
    "    print(\"Even or odd checker\")\n",
    "    print(\"\")\n",
    "    \n",
    "    user = int(input(\"Enter an integer: \"))\n",
    "    odd_or_even = \"even\" if is_even(user) else \"odd\"\n",
    "    print(\"This is an \" +  odd_or_even + \" number.\")\n",
    "\n",
    "if __name__ == \"__main__\":\n",
    "    main()\n",
    "    "
   ]
  },
  {
   "cell_type": "markdown",
   "metadata": {
    "editable": true,
    "slideshow": {
     "slide_type": ""
    },
    "tags": []
   },
   "source": [
    "## 4.2 - Feet and Meters Converter\n",
    "Create a program that converts feet to meters and vice versa.\n",
    "\n",
    "### Console\n",
    "```powershell\n",
    "Feet and Meters Converter\n",
    "\n",
    "Conversions Menu:\n",
    "a.\tFeet to Meters\n",
    "b.\tMeters to Feet\n",
    "Select a conversion (a/b): a\n",
    "\n",
    "Enter feet: 100\n",
    "30.48 meters\n",
    "\n",
    "Would you like to perform another conversion? (y/n): y \n",
    "\n",
    "Conversions Menu:\n",
    "a.\tFeet to Meters\n",
    "b.\tMeters to Feet\n",
    "Select a conversion (a/b): b\n",
    "\n",
    "Enter meters: 100\n",
    "328.08 feet\n",
    "\n",
    "Would you like to perform another conversion? (y/n): n\n",
    "\n",
    "Thanks, bye!\n",
    "```\n",
    "\n",
    "### Specifications:\n",
    "- The formula for converting feet to meters is:\n",
    "`feet = meters / 0.3048`\n",
    "\n",
    "- The formula for converting meters to feet is:\n",
    "`meters = feet * 0.3048`\n",
    "\n",
    "- Store the code that performs the conversions in functions within a module. For example, store the code that converts feet to meters in a function in a module.\n",
    "- Store the code that displays the title in its own function, and store the code that displays the menu in its own function, but store the rest of the code that gets input and displays output in a main function.\n",
    "- Assume the user will enter valid data.\n",
    "- The program should round results to a maximum of two decimal places.\n",
    "\n",
    "\n"
   ]
  },
  {
   "cell_type": "code",
   "execution_count": 1,
   "metadata": {
    "editable": true,
    "slideshow": {
     "slide_type": ""
    },
    "tags": []
   },
   "outputs": [
    {
     "name": "stdout",
     "output_type": "stream",
     "text": [
      "Feet and Meters Converter\n",
      "Conversions Menu:\n",
      "a.\tFeet to Meters\n",
      "b.\tMeters to Feet\n"
     ]
    },
    {
     "name": "stdin",
     "output_type": "stream",
     "text": [
      "Select a conversion (a/b):  a\n",
      "Enter feet:  100\n"
     ]
    },
    {
     "name": "stdout",
     "output_type": "stream",
     "text": [
      "30.48 meters\n",
      "\n"
     ]
    },
    {
     "name": "stdin",
     "output_type": "stream",
     "text": [
      "Would you like to perform another conversion? (y/n):  y\n"
     ]
    },
    {
     "name": "stdout",
     "output_type": "stream",
     "text": [
      "\n",
      "Conversions Menu:\n",
      "a.\tFeet to Meters\n",
      "b.\tMeters to Feet\n"
     ]
    },
    {
     "name": "stdin",
     "output_type": "stream",
     "text": [
      "Select a conversion (a/b):  b\n",
      "Enter feet:  100\n"
     ]
    },
    {
     "name": "stdout",
     "output_type": "stream",
     "text": [
      "328.08 feet\n",
      "\n"
     ]
    },
    {
     "name": "stdin",
     "output_type": "stream",
     "text": [
      "Would you like to perform another conversion? (y/n):  n\n"
     ]
    },
    {
     "name": "stdout",
     "output_type": "stream",
     "text": [
      "\n",
      "Thanks, bye!\n"
     ]
    }
   ],
   "source": [
    "import conversion\n",
    "\n",
    "def title():\n",
    "    \"\"\"Prints title of the program.\"\"\"\n",
    "    print(\"Feet and Meters Converter\")\n",
    "\n",
    "def menu():\n",
    "    \"\"\"Displays the selection menu.\"\"\"\n",
    "    print(\"Conversions Menu:\\na.\\tFeet to Meters\\nb.\\tMeters to Feet\")\n",
    "\n",
    "def main():\n",
    "    \"\"\"Handles inputs, primary loop, and calls conversion functions.\"\"\"\n",
    "    # Show title\n",
    "    title()\n",
    "    # Primary loop. Keep repeating conversions until told otherwise (break)\n",
    "    while True:\n",
    "        # Before conversion, display conversion options menu and get use selection through console\n",
    "        menu()\n",
    "        selection = input(\"Select a conversion (a/b): \")\n",
    "\n",
    "        # Perform conversion dependant on user selection\n",
    "        if selection == \"a\":\n",
    "            feet = int(input(\"Enter feet: \"))\n",
    "            meters = conversion.to_meters(feet)\n",
    "            print(meters, \"meters\")\n",
    "        elif selection == \"b\":\n",
    "            meters = int(input(\"Enter feet: \"))\n",
    "            feet = conversion.to_feet(meters)\n",
    "            print(feet, \"feet\")\n",
    "        else:\n",
    "            print(\"Not a valid option\")\n",
    "\n",
    "        # Check if user would like another conversion\n",
    "        print(\"\")\n",
    "        selection = input(\"Would you like to perform another conversion? (y/n): \")\n",
    "        print(\"\")\n",
    "        # If they want to break, break. If not, loop\n",
    "        if selection != \"y\":\n",
    "            break\n",
    "    # After the loop exits, thank the use and say goodbye\n",
    "    print(\"Thanks, bye!\")\n",
    "        \n",
    "# Call main\n",
    "if __name__ == \"__main__\":\n",
    "    main()"
   ]
  },
  {
   "cell_type": "markdown",
   "metadata": {
    "editable": true,
    "slideshow": {
     "slide_type": ""
    },
    "tags": []
   },
   "source": [
    "## 4.3 - Sales Tax Calculator\n",
    "Create a program that uses a separate module to calculate sales tax and total after tax.\n",
    "\n",
    "### Console\n",
    "```powershell\n",
    "Sales Tax Calculator\n",
    "\n",
    "ENTER ITEMS (ENTER 0 TO END)\n",
    "Cost of item: 35.99 \n",
    "Cost of item: 27.50 \n",
    "Cost of item: 19.59 \n",
    "Cost of item: 0 \n",
    "Total:  83.08\n",
    "Sales tax:\t4.98\n",
    "Total after tax: 88.06 \n",
    "\n",
    "Again? (y/n): y\n",
    "\n",
    "ENTER ITEMS (ENTER 0 TO END)\n",
    "Cost of item: 152.50 \n",
    "Cost of item: 59.80 \n",
    "Cost of item: 0\n",
    "Total:  212.3\n",
    "Sales tax:\t12.74\n",
    "Total after tax: 225.04 \n",
    "\n",
    "Again? (y/n): n\n",
    "\n",
    "Thanks, bye!\n",
    "\n",
    "```\n",
    "\n",
    "### Specifications\n",
    "- The sales tax rate should be 6% of the total.\n",
    "- Store the sales tax rate in a module. This module should also contain functions that calculate the sales tax and the total after tax. These functions should round the results to a maximum of two decimal places. Upload the seperate sales tax module to your GitHub repo when submitting.\n",
    "- Store the code that gets input and displays output in this notebook. Divide this code into functions wherever you think it would make that code easier to read and maintain.\n",
    "- Assume the user will enter valid data.\n",
    "\n"
   ]
  },
  {
   "cell_type": "code",
   "execution_count": 2,
   "metadata": {
    "editable": true,
    "slideshow": {
     "slide_type": ""
    },
    "tags": []
   },
   "outputs": [
    {
     "name": "stdout",
     "output_type": "stream",
     "text": [
      "Sales Tax Calculator\n",
      "\n",
      "ENTER ITEMS (ENTER 0 TO END)\n"
     ]
    },
    {
     "name": "stdin",
     "output_type": "stream",
     "text": [
      "Cost of item:  10\n",
      "Cost of item:  22\n",
      "Cost of item:  .12\n",
      "Cost of item:  0\n"
     ]
    },
    {
     "name": "stdout",
     "output_type": "stream",
     "text": [
      "Total: 32.12\n",
      "Sales tax: 1.93\n",
      "Total after tax: 34.05\n",
      "\n"
     ]
    },
    {
     "name": "stdin",
     "output_type": "stream",
     "text": [
      "Again? (y/n):  y\n"
     ]
    },
    {
     "name": "stdout",
     "output_type": "stream",
     "text": [
      "\n",
      "ENTER ITEMS (ENTER 0 TO END)\n"
     ]
    },
    {
     "name": "stdin",
     "output_type": "stream",
     "text": [
      "Cost of item:  10\n",
      "Cost of item:  100\n",
      "Cost of item:  .5\n",
      "Cost of item:  0\n"
     ]
    },
    {
     "name": "stdout",
     "output_type": "stream",
     "text": [
      "Total: 110.5\n",
      "Sales tax: 6.63\n",
      "Total after tax: 117.13\n",
      "\n"
     ]
    },
    {
     "name": "stdin",
     "output_type": "stream",
     "text": [
      "Again? (y/n):  n\n"
     ]
    },
    {
     "name": "stdout",
     "output_type": "stream",
     "text": [
      "\n",
      "Thanks, bye!\n"
     ]
    }
   ],
   "source": [
    "import sales_tax\n",
    "\n",
    "def title():\n",
    "    \"\"\"Displays the title of the program.\"\"\"\n",
    "    print(\"Sales Tax Calculator\")\n",
    "    print(\"\")\n",
    "\n",
    "def should_exit():\n",
    "    \"\"\"Gets user input as to whether the program should continue. Returns True or False depending on user input.\"\"\"\n",
    "    # Check if user would like another conversion\n",
    "    print(\"\")\n",
    "    selection = input(\"Again? (y/n): \")\n",
    "    print(\"\")\n",
    "    \n",
    "    # If the user selects yes, print goodbye and return true.\n",
    "    if selection != \"y\":\n",
    "        print(\"Thanks, bye!\")\n",
    "        return True\n",
    "\n",
    "    # If the user has not selected yes, return False\n",
    "    return False\n",
    "    \n",
    "def get_total():\n",
    "    \"\"\"Gets an user defined amount of numbers entered by the user, \n",
    "    and returns the total sum of these numbers.\"\"\"\n",
    "    # Info for user on how to use\n",
    "    print(\"ENTER ITEMS (ENTER 0 TO END)\")\n",
    "    # Running total\n",
    "    total = 0\n",
    "    # Repeat until user enters exit case\n",
    "    while True:\n",
    "        # Get user input\n",
    "        user = float(input(\"Cost of item: \"))\n",
    "\n",
    "        # Return value and exit on exit case\n",
    "        if user == 0:\n",
    "            # Return ends the function, acting like `break`\n",
    "            return total\n",
    "        # If not exit value, add to total and loop\n",
    "        else:\n",
    "            total += user\n",
    "\n",
    "def main():    \n",
    "    \"\"\"Gets user input for individual purchases, adds them together,\n",
    "    and displays total and sales tax information. Loops until user exits.\"\"\"\n",
    "    # Call title\n",
    "    title()\n",
    "\n",
    "    # Loop until user wishes to exit\n",
    "    while True:\n",
    "        total = get_total()\n",
    "        print(\"Total:\", total)\n",
    "        print(\"Sales tax:\", sales_tax.get_tax(total))\n",
    "        print(\"Total after tax:\", sales_tax.get_total(total))\n",
    "        \n",
    "        if should_exit():\n",
    "            break\n",
    "\n",
    "# Call main\n",
    "if __name__ == \"__main__\":\n",
    "    main()"
   ]
  },
  {
   "cell_type": "markdown",
   "metadata": {},
   "source": [
    "## 4.4 - Prime Number Checker\n",
    "Create a program that checks whether a number is a prime number and displays the total number of factors if it is not a prime number.\n",
    "\n",
    "### Console\n",
    "```powershell\n",
    "Prime Number Checker\n",
    "\n",
    "Please enter an integer between 1 and 5000: 1 \n",
    "Invalid integer. Please try again.\n",
    "Please enter an integer between 1 and 5000: 2\n",
    "2 is a prime number. \n",
    "\n",
    "Try again? (y/n): y\n",
    "\n",
    "Please enter an integer between 1 and 5000: 3\n",
    "3 is a prime number.\n",
    "\n",
    "Try again? (y/n): y\n",
    "\n",
    "Please enter an integer between 1 and 5000: 4\n",
    "4 is NOT a prime number.\n",
    "It has 3 factors.\n",
    "\n",
    "Try again? (y/n): y\n",
    "\n",
    "Please enter an integer between 1 and 5000: 6\n",
    "6 is NOT a prime number.\n",
    "It has 4 factors.\n",
    "\n",
    "Try again? (y/n): n\n",
    "\n",
    "Bye!\n",
    "```\n",
    "\n",
    "### Specifications\n",
    "- A prime number is only divisible by two factors (1 and itself). For example, 7 is a prime number because it is only divisible by 1 and 7.\n",
    "- If the number is not a prime number, the program should display its number of factors. For example, 6 has four factors (1, 2, 3, and 6).\n",
    "- Store the code that gets a valid integer for this program in its own function.\n",
    "- Store the code that calculates the number of factors for a number in its own function.\n",
    "- Store the rest of the code that gets input and displays output in the main function.\n",
    "\n"
   ]
  },
  {
   "cell_type": "code",
   "execution_count": 15,
   "metadata": {
    "editable": true,
    "slideshow": {
     "slide_type": ""
    },
    "tags": []
   },
   "outputs": [
    {
     "name": "stdout",
     "output_type": "stream",
     "text": [
      "Prime Number Checker\n",
      "\n"
     ]
    },
    {
     "name": "stdin",
     "output_type": "stream",
     "text": [
      "Please enter an integer between 1 and 5000:  2\n"
     ]
    },
    {
     "name": "stdout",
     "output_type": "stream",
     "text": [
      "2 is a prime number.\n",
      "\n"
     ]
    },
    {
     "name": "stdin",
     "output_type": "stream",
     "text": [
      "Again? (y/n):  y\n"
     ]
    },
    {
     "name": "stdout",
     "output_type": "stream",
     "text": [
      "\n"
     ]
    },
    {
     "name": "stdin",
     "output_type": "stream",
     "text": [
      "Please enter an integer between 1 and 5000:  10\n"
     ]
    },
    {
     "name": "stdout",
     "output_type": "stream",
     "text": [
      "10 is NOT a prime number.\n",
      "It has 4 factors.\n",
      "\n"
     ]
    },
    {
     "name": "stdin",
     "output_type": "stream",
     "text": [
      "Again? (y/n):  n\n"
     ]
    },
    {
     "name": "stdout",
     "output_type": "stream",
     "text": [
      "\n",
      "Thanks, bye!\n"
     ]
    }
   ],
   "source": [
    "def get_valid_int():\n",
    "    \"\"\"Prompts the user until they input an int between 1 and 5000. Returns the inputted int. Has validation\"\"\" \n",
    "    # Keep prompting for the number until it is valid and the function returns\n",
    "    while True:\n",
    "        user = input(\"Please enter an integer between 1 and 5000: \")\n",
    "        # Try statement to protect program from value error crashes in case user inputs non-ints.\n",
    "        try:\n",
    "            # Convert string input to int\n",
    "            num = int(user)\n",
    "            # If the number converts succesfully and is a valid number, return the number\n",
    "            # Kills the function and thus the loop, acting like a break statement\n",
    "            if num > 1 and num < 5000:\n",
    "                return num\n",
    "        # Empty catch as print statement below will alert user.\n",
    "        except ValueError:\n",
    "            pass\n",
    "        # If the number did not return (and thus is invalid), alert the user and restart loop\n",
    "        print(\"Invalid integer. Please try again.\")\n",
    "\n",
    "def factors(num):\n",
    "    \"\"\"Accepts an int. Returns the number of factors of the int.\"\"\"\n",
    "    # Keeps track of how many factors the int has\n",
    "    count = 0\n",
    "    # Attempt to divide the int by all numbers from 1 to itself.\n",
    "    for x in range(1, num + 1):\n",
    "        # Add one to the factor count if x is a factor of the int \n",
    "        if num % x == 0:\n",
    "            count += 1\n",
    "    # After looping through 1 to the int, return the factor count\n",
    "    return count\n",
    "\n",
    "def main():\n",
    "    \"\"\"Gets a user selected number, and displays whether it is a prime number.\n",
    "    If not, displays the amount of factors the number has. Continues until user ends the program.\"\"\"\n",
    "    # Title\n",
    "    print(\"Prime Number Checker\")\n",
    "    print(\"\")\n",
    "    \n",
    "    while True:\n",
    "        # Get input and the inputted numbers factor count\n",
    "        num = get_valid_int()\n",
    "        count = factors(num)\n",
    "\n",
    "        # Check if it is a prime number and display the found information\n",
    "        if count == 2:\n",
    "            print(num, \"is a prime number.\")\n",
    "        else: \n",
    "            print(num, \"is NOT a prime number.\")\n",
    "            print(\"It has\", count, \"factors.\")\n",
    "\n",
    "        # Check if program should terminate\n",
    "        print(\"\")\n",
    "        selection = input(\"Again? (y/n): \")\n",
    "        print(\"\")\n",
    "        \n",
    "        # If the user selects yes, print goodbye and exit loop.\n",
    "        if selection != \"y\":\n",
    "            print(\"Bye!\")\n",
    "            break\n",
    "    \n",
    "# Call main\n",
    "if __name__ == \"__main__\":\n",
    "    main()"
   ]
  },
  {
   "cell_type": "code",
   "execution_count": null,
   "metadata": {},
   "outputs": [],
   "source": []
  }
 ],
 "metadata": {
  "kernelspec": {
   "display_name": "Python 3 (ipykernel)",
   "language": "python",
   "name": "python3"
  },
  "language_info": {
   "codemirror_mode": {
    "name": "ipython",
    "version": 3
   },
   "file_extension": ".py",
   "mimetype": "text/x-python",
   "name": "python",
   "nbconvert_exporter": "python",
   "pygments_lexer": "ipython3",
   "version": "3.13.2"
  }
 },
 "nbformat": 4,
 "nbformat_minor": 4
}
