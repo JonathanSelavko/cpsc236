{
 "cells": [
  {
   "cell_type": "markdown",
   "metadata": {},
   "source": [
    "# Selections and Loops"
   ]
  },
  {
   "cell_type": "markdown",
   "metadata": {},
   "source": [
    "## 3.1 Letter Grade Converter\n",
    "Create a program that converts number grades to letter grades.\n",
    "\n",
    "### Console:\n",
    "```powershell\n",
    "Letter Grade Converter\n",
    "\n",
    "Enter numerical grade: 90 \n",
    "Letter grade: A\n",
    "\n",
    "Continue? (y/n): y\n",
    "\n",
    "Enter numerical grade: 88 \n",
    "Letter grade: A\n",
    "\n",
    "Continue? (y/n): y\n",
    "\n",
    "Enter numerical grade: 80 \n",
    "Letter grade: B\n",
    "\n",
    "Continue? (y/n): y\n",
    "\n",
    "Enter numerical grade: 67 \n",
    "Letter grade: C\n",
    "\n",
    "Continue? (y/n): y\n",
    "\n",
    "Enter numerical grade: 59 \n",
    "Letter grade: F\n",
    "\n",
    "Continue? (y/n): n\n",
    "\n",
    "Bye!\n",
    "```\n",
    "\n",
    "### Specifications:\n",
    "- Assume that the user will enter valid integers for the grades.\n",
    "- The program should continue only if the user enters “y” or “Y” to continue.\n",
    "- The grading criteria is as follows:\n",
    "\n",
    "| Letter |\tRange |\n",
    "|---|-------|\n",
    "| A |\t88-100 |\n",
    "| B |\t80-87 |\n",
    "| C |\t67-79 |\n",
    "| D |\t60-66 |\n",
    "| F |\t<60 |"
   ]
  },
  {
   "cell_type": "code",
   "execution_count": 36,
   "metadata": {},
   "outputs": [
    {
     "name": "stdout",
     "output_type": "stream",
     "text": [
      "Letter Grade Converter\n"
     ]
    },
    {
     "name": "stdin",
     "output_type": "stream",
     "text": [
      "Enter numerical grade:  10\n"
     ]
    },
    {
     "name": "stdout",
     "output_type": "stream",
     "text": [
      "Letter grade: F\n",
      "\n"
     ]
    },
    {
     "name": "stdin",
     "output_type": "stream",
     "text": [
      "Continue? (y/n):  y\n"
     ]
    },
    {
     "name": "stdout",
     "output_type": "stream",
     "text": [
      "\n"
     ]
    },
    {
     "name": "stdin",
     "output_type": "stream",
     "text": [
      "Enter numerical grade:  100\n"
     ]
    },
    {
     "name": "stdout",
     "output_type": "stream",
     "text": [
      "Letter grade: A\n",
      "\n"
     ]
    },
    {
     "name": "stdin",
     "output_type": "stream",
     "text": [
      "Continue? (y/n):  y\n"
     ]
    },
    {
     "name": "stdout",
     "output_type": "stream",
     "text": [
      "\n"
     ]
    },
    {
     "name": "stdin",
     "output_type": "stream",
     "text": [
      "Enter numerical grade:  101\n"
     ]
    },
    {
     "name": "stdout",
     "output_type": "stream",
     "text": [
      "Letter grade: Score out of bounds. Please verify your score and try again.\n",
      "\n"
     ]
    },
    {
     "name": "stdin",
     "output_type": "stream",
     "text": [
      "Continue? (y/n):  y\n"
     ]
    },
    {
     "name": "stdout",
     "output_type": "stream",
     "text": [
      "\n"
     ]
    },
    {
     "name": "stdin",
     "output_type": "stream",
     "text": [
      "Enter numerical grade:  99\n"
     ]
    },
    {
     "name": "stdout",
     "output_type": "stream",
     "text": [
      "Letter grade: A\n",
      "\n"
     ]
    },
    {
     "name": "stdin",
     "output_type": "stream",
     "text": [
      "Continue? (y/n):  y\n"
     ]
    },
    {
     "name": "stdout",
     "output_type": "stream",
     "text": [
      "\n"
     ]
    },
    {
     "name": "stdin",
     "output_type": "stream",
     "text": [
      "Enter numerical grade:  76\n"
     ]
    },
    {
     "name": "stdout",
     "output_type": "stream",
     "text": [
      "Letter grade: C\n",
      "\n"
     ]
    },
    {
     "name": "stdin",
     "output_type": "stream",
     "text": [
      "Continue? (y/n):  n\n"
     ]
    },
    {
     "name": "stdout",
     "output_type": "stream",
     "text": [
      "\n",
      "Bye!\n"
     ]
    }
   ],
   "source": [
    "# Letter grades matching the order of their score counterparts\n",
    "LETTERS = [\"A\", \"B\", \"C\", \"D\", \"F\"]\n",
    "# Score ranges in order as pairs (lower score bound, upper score bound). [Values are inclusive]\n",
    "RANGES = [(88, 100), (80, 87), (67, 79), (60, 66), (0, 59)]\n",
    "\n",
    "# Function takes score (int) and returns letter grade (str)\n",
    "def convert_score(score: int) -> str: \n",
    "    # For every pair in RANGES...\n",
    "    for index, r in enumerate(RANGES):\n",
    "        #  ...test if the given score is within the lower and upper bounds...\n",
    "        if score >= r[0] and score <= r[1]:\n",
    "            #...If within the given range, use its index to return the matching grade from LETTERS\n",
    "            return LETTERS[index]\n",
    "    #In case the for loop could not deterimine the grade, return *something*\n",
    "    return \"Score out of bounds. Please verify your score and try again.\"\n",
    "\n",
    "\n",
    "# Main program start\n",
    "# Display title\n",
    "print(\"Letter Grade Converter\")\n",
    "print(\"\")\n",
    "\n",
    "# The program should loop so long as the user inputs 'y'\n",
    "# Start the program by setting the run variable to \"y\"\n",
    "run = \"y\"\n",
    "while run == \"y\":\n",
    "    # Convert a score using the convert_score(score) function\n",
    "    score = int(input(\"Enter numerical grade: \"))\n",
    "    grade = convert_score(score)\n",
    "    print(\"Letter grade:\", grade)\n",
    "\n",
    "    # Check if the program should run again\n",
    "    print(\"\")\n",
    "    # Use .lower() to accept both upper and lowercase as the same input\n",
    "    # When 'run' (this input) is anything but y, the while loop will exit \n",
    "    run = input(\"Continue? (y/n): \").lower()\n",
    "    print(\"\")\n",
    "    \n",
    "# After the main control loop ends, let the user know the program is finished\n",
    "print(\"Bye!\")"
   ]
  },
  {
   "cell_type": "markdown",
   "metadata": {},
   "source": [
    "## 3.2 - Tip Calculator\n",
    "Create a program that calculates three options for an appropriate tip to leave after a meal at a restaurant.\n",
    "\n",
    "### Console\n",
    "```powershell\n",
    "Tip Calculator\n",
    "\n",
    "Cost of meal: 52.31 \n",
    "\n",
    "15%\n",
    "Tip amount:\t7.85\n",
    "Total amount: 60.16\n",
    "\n",
    "20%\n",
    "Tip amount:\t10.46\n",
    "Total amount: 62.77\n",
    "\n",
    "25%\n",
    "Tip amount:\t13.08\n",
    "Total amount: 65.39\n",
    "```\n",
    "\n",
    "### Specifications:\n",
    "- The program should calculate and display the cost of tipping at 15%, 20%, or 25%.\n",
    "- Assume the user will enter valid data.\n",
    "- The program should round results to a maximum of two decimal places.\n",
    "\n"
   ]
  },
  {
   "cell_type": "code",
   "execution_count": 37,
   "metadata": {},
   "outputs": [
    {
     "name": "stdout",
     "output_type": "stream",
     "text": [
      "Tip Calculator\n",
      "\n"
     ]
    },
    {
     "name": "stdin",
     "output_type": "stream",
     "text": [
      "Cost of a meal:  15.12\n"
     ]
    },
    {
     "name": "stdout",
     "output_type": "stream",
     "text": [
      "\n",
      "15.0%\n",
      "Tip amount:\t 2.27\n",
      "Total amount:  17.39\n",
      "\n",
      "20.0%\n",
      "Tip amount:\t 3.02\n",
      "Total amount:  18.14\n",
      "\n",
      "25.0%\n",
      "Tip amount:\t 3.78\n",
      "Total amount:  18.9\n",
      "\n"
     ]
    }
   ],
   "source": [
    "# Takes the cost of the meal (as float) and a tip percentage (as float). Outputs calculated tips and totals.\n",
    "def tip(cost: float, percentage: float) -> None:\n",
    "    # As we use a decimal for the percent, create a copy in % format\n",
    "    percentage_str = str(100 * percentage) + \"%\" \n",
    "\n",
    "    # Calculate tip and total\n",
    "    tip = round(cost * percentage, 2)\n",
    "    total = round(tip + cost, 2)\n",
    "\n",
    "    # Display results\n",
    "    print(percentage_str)\n",
    "    print(\"Tip amount:\t\", tip)\n",
    "    print(\"Total amount: \", total)\n",
    "\n",
    "# Main program\n",
    "# Display title\n",
    "print(\"Tip Calculator\")\n",
    "print()\n",
    "\n",
    "# Get user input\n",
    "cost = float(input(\"Cost of a meal: \"))\n",
    "print(\"\")\n",
    "\n",
    "# Loop through 15 to 25 by increments of 5\n",
    "for percentage in range(15, 25 + 1, 5):\n",
    "    # Turn tip into decimal form and run tip()\n",
    "    tip(cost, percentage / 100)\n",
    "    #Padding between each tip output\n",
    "    print(\"\")"
   ]
  },
  {
   "cell_type": "markdown",
   "metadata": {},
   "source": [
    "## 3.3 - Change Calculator\n",
    "Create a program that calculates the coins needed to make change for the specified number of cents.\n",
    "\n",
    "### Console\n",
    "```powershell\n",
    "Change Calculator\n",
    "\n",
    "Enter number of cents (0-99): 99\n",
    "\n",
    "Quarters: 3\n",
    "Dimes:\t2\n",
    "Nickels: 0\n",
    "Pennies: 4\n",
    "\n",
    "Continue? (y/n): y\n",
    "\n",
    "Enter number of cents (0-99): 55\n",
    "\n",
    "Quarters: 2\n",
    "Dimes:\t0\n",
    "Nickels: 1\n",
    "Pennies: 0\n",
    "\n",
    "Continue? (y/n): n \n",
    "\n",
    "Bye!\n",
    "```\n",
    "\n",
    "### Specifications\n",
    "- The program should display the minimum number of quarters, dimes, nickels, and pennies that one needs to make up the specified number of cents.\n",
    "- Assume that the user will enter a valid integer for the number of cents.\n",
    "- The program should continue only if the user enters “y” or “Y” to continue.\n"
   ]
  },
  {
   "cell_type": "code",
   "execution_count": 39,
   "metadata": {},
   "outputs": [
    {
     "name": "stdout",
     "output_type": "stream",
     "text": [
      "Change Calculator\n",
      "\n"
     ]
    },
    {
     "name": "stdin",
     "output_type": "stream",
     "text": [
      "Enter  number of cents (0-99): 95\n"
     ]
    },
    {
     "name": "stdout",
     "output_type": "stream",
     "text": [
      "\n",
      "Quarters: 3\n",
      "Dimes: 2\n",
      "Nickels: 0\n",
      "Pennies: 0\n"
     ]
    }
   ],
   "source": [
    "print(\"Change Calculator\")\n",
    "print(\"\")\n",
    "# Get cents from user as integer input\n",
    "cents = int(input(\"Enter  number of cents (0-99):\"))\n",
    "\n",
    "# Calculate quarters from cents pile\n",
    "quarts = cents // 25\n",
    "# Remove quarters from cents pile\n",
    "cents = cents % 25\n",
    "\n",
    "dimes = cents // 10\n",
    "cents = cents % 10\n",
    "\n",
    "nickles = cents // 5\n",
    "cents = cents % 5\n",
    "\n",
    "pennies = cents // 1\n",
    "cents = cents % 1\n",
    "\n",
    "print(\"\")\n",
    "print(\"Quarters:\" , quarts)\n",
    "print(\"Dimes:\" , dimes)\n",
    "print(\"Nickels:\" , nickles)\n",
    "print(\"Pennies:\", pennies)"
   ]
  },
  {
   "cell_type": "markdown",
   "metadata": {},
   "source": [
    "## 3.4 - Table of Powers\n",
    "Create a program that displays a table of squares and cubes for the specified range of numbers.\n",
    "\n",
    "### Console\n",
    "```powershell\n",
    "Table of Powers\n",
    "\n",
    "Start number: 90\n",
    "Stop number: 100\n",
    "\n",
    "Number\tSquared\tCubed\n",
    "======\t=======\t=====\n",
    "90      8100\t729000\n",
    "91      8281\t753571\n",
    "92      8464\t778688\n",
    "93      8649\t804357\n",
    "94      8836\t830584\n",
    "95      9025\t857375\n",
    "96      9216\t884736\n",
    "97      9409\t912673\n",
    "98      9604\t941192\n",
    "99      9801\t970299\n",
    "100     10000\t1000000\n",
    "```\n",
    "\n",
    "### Specifications\n",
    "- The formulas for calculating squares and cubes are:\n",
    "\n",
    "    `square = x ** 2`\n",
    "    \n",
    "    `cube = x ** 3`\n",
    "\n",
    "- Use tabs to align the columns.\n",
    "- Assume that the user will enter valid integers.\n",
    "- Make sure the user enters a start integer that’s less than the stop integer. If the user enters a start integer that’s greater than the stop integer, display an error message and give the user a chance to enter the integers again.\n"
   ]
  },
  {
   "cell_type": "code",
   "execution_count": 38,
   "metadata": {},
   "outputs": [
    {
     "name": "stdout",
     "output_type": "stream",
     "text": [
      "Table of Powers\n",
      "\n"
     ]
    },
    {
     "name": "stdin",
     "output_type": "stream",
     "text": [
      "Start number:  90\n",
      "Stop number:  100\n"
     ]
    },
    {
     "name": "stdout",
     "output_type": "stream",
     "text": [
      "\n",
      "Number\tSquared\tCubed\n",
      "======\t=======\t=====\n",
      "90\t8100\t729000\n",
      "91\t8281\t753571\n",
      "92\t8464\t778688\n",
      "93\t8649\t804357\n",
      "94\t8836\t830584\n",
      "95\t9025\t857375\n",
      "96\t9216\t884736\n",
      "97\t9409\t912673\n",
      "98\t9604\t941192\n",
      "99\t9801\t970299\n",
      "100\t10000\t1000000\n"
     ]
    }
   ],
   "source": [
    "# Display title\n",
    "print(\"Table of Powers\")\n",
    "print(\"\")\n",
    "# Get user inputs\n",
    "start = int(input(\"Start number: \"))\n",
    "stop = int(input(\"Stop number: \"))\n",
    "\n",
    "# Display table headers \n",
    "print(\"\")\n",
    "print(\"Number\\tSquared\\tCubed\")\n",
    "print(\"======\\t=======\\t=====\")\n",
    "\n",
    "# Loop through all numbers in the selected range\n",
    "for number in range(start, stop + 1):\n",
    "    #Calculate each cube and square\n",
    "    number_cubed = number ** 2\n",
    "    number_squared = number ** 3\n",
    "    # Display each number, cube, and square\n",
    "    print(str(number) + \"\\t\" + str(number_cubed)\n",
    "          + \"\\t\" + str(number_squared))"
   ]
  },
  {
   "cell_type": "code",
   "execution_count": null,
   "metadata": {},
   "outputs": [],
   "source": []
  }
 ],
 "metadata": {
  "kernelspec": {
   "display_name": "Python 3 (ipykernel)",
   "language": "python",
   "name": "python3"
  },
  "language_info": {
   "codemirror_mode": {
    "name": "ipython",
    "version": 3
   },
   "file_extension": ".py",
   "mimetype": "text/x-python",
   "name": "python",
   "nbconvert_exporter": "python",
   "pygments_lexer": "ipython3",
   "version": "3.13.1"
  }
 },
 "nbformat": 4,
 "nbformat_minor": 4
}
