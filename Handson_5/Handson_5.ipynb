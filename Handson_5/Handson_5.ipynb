{
 "cells": [
  {
   "cell_type": "markdown",
   "metadata": {},
   "source": [
    "# File Input\n",
    "\n",
    "To submit this assignment in D2l, post the link to your notebook file on your GitHub account."
   ]
  },
  {
   "cell_type": "markdown",
   "metadata": {},
   "source": [
    "## 7.1 Pig Dice Rules\n",
    "Create a program that reads a list of rules from a file and displays them.\n",
    "\n",
    "### Console:\n",
    "```powershell\n",
    "Pig Dice Rules:\n",
    "*\tSee how many turns it takes you to get to 20.\n",
    "*\tTurn ends when player rolls a 1 or chooses to hold.\n",
    "*\tIf you roll a 1, you lose all points earned during the turn.\n",
    "*\tIf you hold, you save all points earned during the turn.\n",
    "```\n",
    "\n",
    "### Specifications:\n",
    "- Use the attached text file named `pig_dice_rules.txt` in the corresponding Directory.\n",
    "- Your program should read the text file and display it on the console.\n"
   ]
  },
  {
   "cell_type": "code",
   "execution_count": 5,
   "metadata": {},
   "outputs": [
    {
     "name": "stdout",
     "output_type": "stream",
     "text": [
      "Pig Dice Rules:\n",
      "* See how many turns it takes you to get to 20.\n",
      "* Turn ends when player rolls a 1 or chooses to hold.\n",
      "* If you roll a 1, you lose all points earned during the turn.\n",
      "* If you hold, you save all points earned during the turn."
     ]
    }
   ],
   "source": [
    "def displayRules():\n",
    "    \"\"\"Reads the pig_dice_rules.txt file, and displays its contents.\"\"\"\n",
    "    with open(\"pig_dice_rules.txt\") as file:\n",
    "        for line in  file:\n",
    "            print(line, end = \"\")\n",
    "\n",
    "def main():\n",
    "    \"\"\"The main program. Displays pig dice rules from the pig_dice_rules.txt file.\"\"\"\n",
    "    displayRules()\n",
    "\n",
    "if __name__ == \"__main__\":\n",
    "    main()"
   ]
  },
  {
   "cell_type": "markdown",
   "metadata": {},
   "source": [
    "## 7.2 Wizard Inventory\n",
    "Create a program that keeps track of the items that a wizard can carry.\n",
    "\n",
    "### Console:\n",
    "```powershell\n",
    "The Wizard Inventroy Program\n",
    "\n",
    "COMMAND MENU\n",
    "walk - Walk down the path \n",
    "show - Show all items \n",
    "drop - Drop an item\n",
    "exit - Exit program\n",
    "\n",
    "Command: walk\n",
    "While walking down a path, you see a scroll of uncursing. \n",
    "Do you want to grab it? (y/n): y\n",
    "You picked up a scroll of uncursing.\n",
    "\n",
    "Command: walk\n",
    "While walking down a path, you see an unknown potion. \n",
    "Do you want to grab it? (y/n): y\n",
    "You can't carry any more items. Drop something first.\n",
    "\n",
    "Command: show\n",
    "1.\ta wooden staff\n",
    "2.\ta scroll of invisibility\n",
    "3.\ta crossbow\n",
    "4.\ta scroll of uncursing\n",
    "\n",
    "Command: drop Number: 3\n",
    "You dropped a crossbow.\n",
    "\n",
    "Command: exit \n",
    "Bye!\n",
    "```\n",
    "\n",
    "### Specifications:\n",
    "- Use the attached text file named `wizard_all_items.txt` that contains a list of all the items that a wizard can carry. (in the corresponding directory)\n",
    "- When the user selects the walk command, the program should read the items from the file, randomly pick one, and give the user the option to grab it.\n",
    "- Your program should create another file that stores the items that the wizard is carrying (`wizard_inventory.txt`). Make sure to update this file every time the user grabs or drops an item.\n",
    "- The wizard can only carry **four** items at a time.\n",
    "- For the drop command, display an error message if the user enters an invalid number for the item.\n",
    "\n"
   ]
  },
  {
   "cell_type": "code",
   "execution_count": 85,
   "metadata": {},
   "outputs": [
    {
     "name": "stdout",
     "output_type": "stream",
     "text": [
      "The Wizard Inventroy Program\n",
      "\n",
      "COMMAND MENU\n",
      "walk - Walk down the path\n",
      "show - Show all items\n",
      "drop - Drop an item\n",
      "exit - Exit program\n",
      "\n"
     ]
    },
    {
     "name": "stdin",
     "output_type": "stream",
     "text": [
      "Command:  show\n"
     ]
    },
    {
     "name": "stdout",
     "output_type": "stream",
     "text": [
      "1.\ta wooden staff\n",
      "\n"
     ]
    },
    {
     "name": "stdin",
     "output_type": "stream",
     "text": [
      "Command:  walk\n"
     ]
    },
    {
     "name": "stdout",
     "output_type": "stream",
     "text": [
      "While walking down a path, you see a wooden staff.\n"
     ]
    },
    {
     "name": "stdin",
     "output_type": "stream",
     "text": [
      "Do you want to grab it? (y/n):  y\n"
     ]
    },
    {
     "name": "stdout",
     "output_type": "stream",
     "text": [
      "You picked up a wooden staff.\n",
      "\n"
     ]
    },
    {
     "name": "stdin",
     "output_type": "stream",
     "text": [
      "Command:  show\n"
     ]
    },
    {
     "name": "stdout",
     "output_type": "stream",
     "text": [
      "1.\ta wooden staff\n",
      "2.\ta wooden staff\n",
      "\n"
     ]
    },
    {
     "name": "stdin",
     "output_type": "stream",
     "text": [
      "Command:  drop\n",
      "Number:  2\n"
     ]
    },
    {
     "name": "stdout",
     "output_type": "stream",
     "text": [
      "You dropped a wooden staff.\n",
      "\n"
     ]
    },
    {
     "name": "stdin",
     "output_type": "stream",
     "text": [
      "Command:  show\n"
     ]
    },
    {
     "name": "stdout",
     "output_type": "stream",
     "text": [
      "1.\ta wooden staff\n",
      "\n"
     ]
    },
    {
     "name": "stdin",
     "output_type": "stream",
     "text": [
      "Command:  exit\n"
     ]
    },
    {
     "name": "stdout",
     "output_type": "stream",
     "text": [
      "Bye!\n"
     ]
    }
   ],
   "source": [
    "# Imports\n",
    "import random\n",
    "\n",
    "# Constants\n",
    "MAX_ITEMS = 4\n",
    "INVENTORY_FILEPATH = \"wizard_inventory.txt\"\n",
    "ALL_ITEMS_FILEPATH = \"wizard_all_items.txt\"\n",
    "\n",
    "def start_menu() -> None:\n",
    "    \"\"\"Displays the game title and acceptable commmands.\"\"\"\n",
    "    print(\"The Wizard Inventroy Program\")\n",
    "    print(\"\")\n",
    "    print(\"COMMAND MENU\")\n",
    "    print(\"walk - Walk down the path\")\n",
    "    print(\"show - Show all items\")\n",
    "    print(\"drop - Drop an item\")\n",
    "    print(\"exit - Exit program\")\n",
    "    print(\"\")\n",
    "\n",
    "def get_random_item() -> str:\n",
    "    \"\"\"Opens the all items file, and returns one random item as a string.\"\"\"\n",
    "    # Choose a random item from the wizard items list \n",
    "    with open(ALL_ITEMS_FILEPATH, 'r') as items_file:\n",
    "        # Get random line from the items file\n",
    "        item = random.choice(items_file.readlines())\n",
    "        # Most file based items will have a newline, which we do not want\n",
    "        item = item.rstrip()\n",
    "        # Return the item\n",
    "        return item\n",
    "\n",
    "def get_inventory_count() -> int:\n",
    "    \"\"\"Opens the inventory file, counting the amount of items (using linecount). \n",
    "    Returns current inventory size as int.\"\"\"\n",
    "    # Get pre-existing item count from the inventory file\n",
    "    with open(INVENTORY_FILEPATH, 'r') as inventory_file:\n",
    "        # Get item count (line count)\n",
    "        line_count = 0\n",
    "        for i, _ in enumerate(inventory_file):\n",
    "            line_count = i\n",
    "        item_count = line_count + 1 #enumerate starts at 0. Count should start at 1\n",
    "        return item_count\n",
    "\n",
    "\n",
    "def add_to_inventory(item: str) -> None:\n",
    "    \"\"\"Opens and writes the to inventory file, appending the passed item string.\"\"\"\n",
    "    with open(INVENTORY_FILEPATH, 'a') as inventory_file:\n",
    "        inventory_file.write(item)\n",
    "        inventory_file.write(\"\\n\")\n",
    "\n",
    "def remove_from_inventory(item_num: int) -> str:\n",
    "    \"\"\"Opens and rewrites the inventory file, keeping the file the same except for the\n",
    "    removal of the desired item. Desired item should be a numerical item number.\n",
    "    Returns the removed item.\"\"\"\n",
    "    # Variable to hold the inventory's contents \n",
    "    lines = None\n",
    "    deleted_item = None\n",
    "    # Get all of the items from the file (deleting its current contents)\n",
    "    with open(INVENTORY_FILEPATH, 'r') as inventory_file:\n",
    "        lines = inventory_file.readlines()\n",
    "    # Fully overwrite the inventory file (deleting its old contents)\n",
    "    with open(INVENTORY_FILEPATH, 'w') as inventory_file:\n",
    "        # Add in each line except for the line we want removed\n",
    "        for index, line in enumerate(lines):\n",
    "            if (index + 1) != item_num:\n",
    "                inventory_file.write(line)\n",
    "            else:\n",
    "                deleted_item = line.rstrip()\n",
    "    return deleted_item\n",
    "    \n",
    "def show() -> None:\n",
    "    \"\"\"Displays all items in the inventory file, formatted to be easily human readible.\"\"\"\n",
    "    with open(INVENTORY_FILEPATH, 'r') as inventory_file:\n",
    "        for index, item in enumerate(inventory_file):\n",
    "            # Remove any excess whitespace (newlines found in the file)\n",
    "            item = item.rstrip()\n",
    "            # Print with desired format\n",
    "            print(str(index + 1) + \".\" + \"\\t\" + item)\n",
    "\n",
    "def walk() -> None:\n",
    "    \"\"\"Picks a random item from the wizards items file and gives the user the option to pick up the item.\n",
    "    If they have inventory space, adds the item to the inventory file.\"\"\"\n",
    "    # Pick an item to find on the path\n",
    "    item = get_random_item()\n",
    "    # Display item to user\n",
    "    print(\"While walking down a path, you see \" + item + \".\")\n",
    "\n",
    "    # Get user's request if they should pick it up or not\n",
    "    do_grab = input(\"Do you want to grab it? (y/n): \")\n",
    "\n",
    "    # If they want to pick up the item\n",
    "    if do_grab == \"y\":\n",
    "        # Get inventory item count\n",
    "        item_count = get_inventory_count()\n",
    "        \n",
    "        # If the item count is below the max allowed count, add the item \n",
    "        if item_count < 4:\n",
    "                add_to_inventory(item)\n",
    "                print(\"You picked up \" + item + \".\")\n",
    "        # If their inventory is overfilled\n",
    "        else:\n",
    "            print(\"You can't carry any more items. Drop something first.\")\n",
    "\n",
    "def drop() -> None:\n",
    "    \"\"\"Gets user select for what item they want to drop. Then removes that item from the inventory file.\n",
    "    Has checks to ensure desired item exists.\"\"\"\n",
    "    to_drop = int(input(\"Number: \"))\n",
    "    item_count = get_inventory_count()\n",
    "\n",
    "    if to_drop <= item_count and to_drop > 0:\n",
    "        removed_item = remove_from_inventory(to_drop)\n",
    "        print(\"You dropped \" + str(removed_item) + \".\")\n",
    "    else:\n",
    "        print(\"Oops. Item selected not in inventory.\")\n",
    "\n",
    "def get_command() -> bool:\n",
    "    \"\"\"Prompts for user input, and runs any valid commands inputted by the user.\n",
    "    Returns whether True when a new command should prompted after this one.\"\"\"\n",
    "    # Get user input\n",
    "    command = input(\"Command: \")\n",
    "    # Switch case: Takes the user input and runs the associated function\n",
    "    match command:\n",
    "        case \"walk\": \n",
    "            walk()\n",
    "        case \"show\":\n",
    "            show()\n",
    "        case \"drop\":\n",
    "            drop()\n",
    "        # Special cases for exit and command not found\n",
    "        # Exit simply says returns that new commands should be run\n",
    "        # Actual program exit is handled by function caller\n",
    "        case \"exit\":\n",
    "            print(\"Bye!\")\n",
    "            return False\n",
    "        # Command not matched prints an error message\n",
    "        case _:\n",
    "            print(\"Oops, not a command.\")\n",
    "    # Spacing after each command so each new command has padding\n",
    "    print(\"\")\n",
    "    # Return that yes, a new command should be executed again (handled by function caller)\n",
    "    return True\n",
    "        \n",
    "\n",
    "def main() -> None:\n",
    "    \"\"\"Contains the primary game loop and logic.\"\"\"\n",
    "    # Display starting screen menu\n",
    "    start_menu()\n",
    "    # Run a command until no new commands should be run\n",
    "    # (get_command returns true if a another command should be run)\n",
    "    while get_command():\n",
    "        pass\n",
    "\n",
    "if __name__ == \"__main__\":\n",
    "    main()"
   ]
  },
  {
   "cell_type": "markdown",
   "metadata": {},
   "source": [
    "## 7.3 Monthly Sales\n",
    "Create a program that reads the sales for 12 months from a file and calculates the total yearly sales as well as the average monthly sales. In addition, this program should let the user edit the sales for any month.\n",
    "\n",
    "### Console:\n",
    "```powershell\n",
    "Monthly Sales program\n",
    "\n",
    "COMMAND MENU\n",
    "monthly - View monthly sales \n",
    "yearly\t- View yearly sumary \n",
    "edit\t- Edit sales for a month \n",
    "exit\t- Exit program\n",
    "\n",
    "Command: monthly \n",
    "Jan - 14317\n",
    "Feb - 3903\n",
    "Mar - 1073\n",
    "Apr - 3463\n",
    "May - 2429\n",
    "Jun - 4324\n",
    "Jul - 9762\n",
    "Aug - 15578\n",
    "Sep - 2437\n",
    "Oct - 6735\n",
    "Nov - 88\n",
    "Dec - 2497\n",
    "\n",
    "Command: yearly\n",
    "Yearly total:\t66606\n",
    "Monthly average:\t5550.5\n",
    "\n",
    "Command: edit\n",
    "Three-letter Month: Nov Sales Amount: 8854\n",
    "Sales amount for Nov was modified.\n",
    "\n",
    "Command: exit Bye!\n",
    "```\n",
    "\n",
    "### Specifications:\n",
    "- Use the attached text file named CSV file named `monthly_sales.csv` that contains the month and sales data shown above.\n",
    "- For the edit command, display an error message if the user doesn’t enter a valid three-letter abbreviation for the month.\n",
    "- When the user edits the sales amount for a month, the data should be saved to the CSV file immediately. That way, no data is lost, even if the program crashes later.\n",
    "- Round the results of the monthly average to a maximum of 2 decimal digits."
   ]
  },
  {
   "cell_type": "code",
   "execution_count": 86,
   "metadata": {},
   "outputs": [
    {
     "name": "stdout",
     "output_type": "stream",
     "text": [
      "Monthly Sales program\n",
      "\n",
      "COMMAND MENU\n",
      "monthly\t- View monthly sales\n",
      "yearly\t- View yearly sumary\n",
      "edit\t- Edit sales for a month\n",
      "exit\t- Exit program\n",
      "\n"
     ]
    },
    {
     "name": "stdin",
     "output_type": "stream",
     "text": [
      "Command:  yearly\n"
     ]
    },
    {
     "name": "stdout",
     "output_type": "stream",
     "text": [
      "Yearly total: 52511\n",
      "Montly average: 4375.92\n",
      "\n"
     ]
    },
    {
     "name": "stdin",
     "output_type": "stream",
     "text": [
      "Command:  monthly\n"
     ]
    },
    {
     "name": "stdout",
     "output_type": "stream",
     "text": [
      "Jan - 222\n",
      "Feb - 3903\n",
      "Mar - 1073\n",
      "Apr - 3463\n",
      "May - 2429\n",
      "Jun - 4324\n",
      "Jul - 9762\n",
      "Aug - 15578\n",
      "Sep - 2437\n",
      "Oct - 6735\n",
      "Nov - 88\n",
      "Dec - 2497\n",
      "\n"
     ]
    },
    {
     "name": "stdin",
     "output_type": "stream",
     "text": [
      "Command:  edit\n",
      "Three-letter Month:  toast\n"
     ]
    },
    {
     "name": "stdout",
     "output_type": "stream",
     "text": [
      "Oops. That's not a 3 character month name.\n",
      "\n"
     ]
    },
    {
     "name": "stdin",
     "output_type": "stream",
     "text": [
      "Command:  edit\n",
      "Three-letter Month:  Jan\n",
      "Sales Amount:  123\n"
     ]
    },
    {
     "name": "stdout",
     "output_type": "stream",
     "text": [
      "Sales amount for Jan was modified.\n",
      "\n"
     ]
    },
    {
     "name": "stdin",
     "output_type": "stream",
     "text": [
      "Command:  monthly\n"
     ]
    },
    {
     "name": "stdout",
     "output_type": "stream",
     "text": [
      "Jan - 123\n",
      "Feb - 3903\n",
      "Mar - 1073\n",
      "Apr - 3463\n",
      "May - 2429\n",
      "Jun - 4324\n",
      "Jul - 9762\n",
      "Aug - 15578\n",
      "Sep - 2437\n",
      "Oct - 6735\n",
      "Nov - 88\n",
      "Dec - 2497\n",
      "\n"
     ]
    },
    {
     "name": "stdin",
     "output_type": "stream",
     "text": [
      "Command:  exit\n"
     ]
    },
    {
     "name": "stdout",
     "output_type": "stream",
     "text": [
      "Bye!\n"
     ]
    }
   ],
   "source": [
    "import csv\n",
    "\n",
    "FILE_PATH = \"monthly_sales.csv\"\n",
    "\n",
    "def start_screen():\n",
    "    \"\"\"Displays title and command list\"\"\"\n",
    "    print(\"Monthly Sales program\")\n",
    "    print(\"\")\n",
    "    print(\"COMMAND MENU\")\n",
    "    print(\"monthly\\t- View monthly sales\")\n",
    "    print(\"yearly\\t- View yearly sumary\")\n",
    "    print(\"edit\\t- Edit sales for a month\")\n",
    "    print(\"exit\\t- Exit program\")\n",
    "    print(\"\")\n",
    "\n",
    "def monthly():\n",
    "    \"\"\"Displays results by month.\"\"\"\n",
    "    # Open file\n",
    "    with open(FILE_PATH) as csv_table:\n",
    "        # Load csv as list\n",
    "        table = list(csv.reader(csv_table, delimiter = ','))\n",
    "        # Display list with pretty formatting\n",
    "        for row in table:\n",
    "            print(row[0], \"-\", row[1])\n",
    "            \n",
    "def yearly():\n",
    "    \"\"\"Displays yearly total and montly average.\"\"\"\n",
    "    # Open file\n",
    "    with open(FILE_PATH) as csv_table:\n",
    "        # Load csv as list\n",
    "        table = list(csv.reader(csv_table, delimiter = ','))\n",
    "\n",
    "        # Get total value for sales\n",
    "        total = 0\n",
    "        for row in table:\n",
    "            total += int(row[1])\n",
    "\n",
    "        # Find average\n",
    "        average = total / len(table)\n",
    "        # Round average\n",
    "        average = round(average, 2)\n",
    "        # Display\n",
    "        print(\"Yearly total:\", total)\n",
    "        print(\"Montly average:\", average)\n",
    "\n",
    "def edit():\n",
    "    \"\"\"Gets user input for a month to edit. Opens the file and rewrites the file with the edited data.\"\"\"\n",
    "    table = None # keep table even after With statement exits\n",
    "    # Open the file as read\n",
    "    with open(FILE_PATH) as csv_table:\n",
    "        # Load csv as list\n",
    "        table = list(csv.reader(csv_table, delimiter = ','))\n",
    "\n",
    "    # Get month input\n",
    "    month = input(\"Three-letter Month: \")\n",
    "    # Check user input matches one of the months and grab its index\n",
    "    month_index = None\n",
    "    for index, row in enumerate(table):\n",
    "        if month == row[0]:\n",
    "            month_index = index\n",
    "    # If the month was not found, display error and exit function early\n",
    "    if month_index is None:\n",
    "        print(\"Oops. That's not a 3 character month name.\")\n",
    "        return\n",
    "\n",
    "    # Get the amount to edit\n",
    "    amount = int(input(\"Sales Amount: \"))\n",
    "\n",
    "    # Edit the list table with our users data\n",
    "    table[month_index][1] = amount\n",
    "\n",
    "    # Rewrite csv with the newly edited information\n",
    "    with open(FILE_PATH, 'w') as csv_table:\n",
    "        writer = csv.writer(csv_table)\n",
    "        writer.writerows(table)\n",
    "        print(\"Sales amount for\", month, \"was modified.\")\n",
    "    \n",
    "\n",
    "def get_command() -> bool:\n",
    "    \"\"\"Prompts for user input, and runs any valid commands inputted by the user.\n",
    "    Returns whether True when a new command should prompted after this one.\"\"\"\n",
    "    # Get user input\n",
    "    command = input(\"Command: \")\n",
    "    # Switch case: Takes the user input and runs the associated function\n",
    "    match command:\n",
    "        case \"monthly\": \n",
    "            monthly()\n",
    "        case \"yearly\":\n",
    "            yearly()\n",
    "        case \"edit\":\n",
    "            edit()\n",
    "        # Special cases for exit and command not found\n",
    "        # Exit simply says returns that new commands should be run\n",
    "        # Actual program exit is handled by function caller\n",
    "        case \"exit\":\n",
    "            print(\"Bye!\")\n",
    "            return False\n",
    "        # Command not matched prints an error message\n",
    "        case _:\n",
    "            print(\"Oops, not a command.\")\n",
    "    # Spacing after each command so each new command has padding\n",
    "    print(\"\")\n",
    "    # Return that yes, a new command should be executed again (handled by function caller)\n",
    "    return True\n",
    "        \n",
    "\n",
    "def main() -> None:\n",
    "    \"\"\"Contains the primary logic loop. Calls commands over and over until exit\"\"\"\n",
    "    # Display starting screen menu\n",
    "    start_screen()\n",
    "    # Run a command until no new commands should be run\n",
    "    # (get_command returns true if a another command should be run)\n",
    "    while get_command():\n",
    "        pass\n",
    "\n",
    "if __name__ == \"__main__\":\n",
    "    main()"
   ]
  },
  {
   "cell_type": "code",
   "execution_count": null,
   "metadata": {},
   "outputs": [],
   "source": []
  }
 ],
 "metadata": {
  "kernelspec": {
   "display_name": "Python 3 (ipykernel)",
   "language": "python",
   "name": "python3"
  },
  "language_info": {
   "codemirror_mode": {
    "name": "ipython",
    "version": 3
   },
   "file_extension": ".py",
   "mimetype": "text/x-python",
   "name": "python",
   "nbconvert_exporter": "python",
   "pygments_lexer": "ipython3",
   "version": "3.13.2"
  }
 },
 "nbformat": 4,
 "nbformat_minor": 4
}
